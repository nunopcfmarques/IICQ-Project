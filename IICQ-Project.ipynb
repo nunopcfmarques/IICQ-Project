{
 "cells": [
  {
   "attachments": {},
   "cell_type": "markdown",
   "metadata": {},
   "source": [
    "<h1><center>Using <font color=purple>Qiskit</font> to Build Quantum Circuits</center></h1>\n",
    "\n",
    "<h4><center> Nuno Marques, Physics of Classical and Quantum Information, 2022/23 </center></h4>\n",
    "\n",
    "<h5><center> Instituto Superior Técnico, Universidade de Lisboa, 10/1/2023 </center></h5>"
   ]
  },
  {
   "attachments": {},
   "cell_type": "markdown",
   "metadata": {
    "slideshow": {
     "slide_type": "slide"
    }
   },
   "source": [
    "## What is <font color=purple>Qiskit?</font>\n",
    "\n",
    "- Qiskit is an open-source software development kit that allows you to simulate circuits and algorithms using Python.\n",
    "\n",
    "- Can test your circuits on real devices.\n",
    "\n",
    "- It is best used in combination with Jupyter Notebooks!\n"
   ]
  },
  {
   "attachments": {},
   "cell_type": "markdown",
   "metadata": {
    "slideshow": {
     "slide_type": "slide"
    }
   },
   "source": [
    "## Initialization\n",
    "\n",
    "- Initialize a circuit by calling the function `QuantumCircuit(n,k)`; `n` is the number of qubits and `k` is the number of bits.\n",
    "- By default each qubit is set to $0$.\n",
    "- Set the qubits by labelling with a string (e.g `001`) or by using a list separated by commas. The values in this list are the scalars for the basis vectors. Be mindful of $littleEndian$!\n",
    "\n",
    "- Example for a three-qubit system: $|000⟩$ $|001⟩$ $|010⟩$ $|011⟩$ $|100⟩$ $|101⟩$ $|110⟩$ $|111⟩$\n",
    "\n",
    "Note: you can draw both the state and the circuit using the `draw()` method."
   ]
  },
  {
   "cell_type": "code",
   "execution_count": 1,
   "metadata": {
    "slideshow": {
     "slide_type": "subslide"
    }
   },
   "outputs": [
    {
     "data": {
      "text/latex": [
       "$$ |000\\rangle$$"
      ],
      "text/plain": [
       "<IPython.core.display.Latex object>"
      ]
     },
     "execution_count": 1,
     "metadata": {},
     "output_type": "execute_result"
    }
   ],
   "source": [
    "from qiskit import QuantumCircuit\n",
    "from qiskit.quantum_info import Statevector\n",
    "import numpy as np\n",
    "\n",
    "qc = QuantumCircuit(3)\n",
    "\n",
    "qc.initialize([1, 0, 0, 0, 0, 0, 0, 0], qc.qubits)\n",
    "\n",
    "st0 = Statevector(qc)\n",
    "st0.draw(output='latex')"
   ]
  },
  {
   "cell_type": "code",
   "execution_count": 2,
   "metadata": {
    "slideshow": {
     "slide_type": "subslide"
    }
   },
   "outputs": [
    {
     "data": {
      "text/latex": [
       "$$ |000\\rangle$$"
      ],
      "text/plain": [
       "<IPython.core.display.Latex object>"
      ]
     },
     "execution_count": 2,
     "metadata": {},
     "output_type": "execute_result"
    }
   ],
   "source": [
    "qc.initialize('000', qc.qubits)\n",
    "st0 = Statevector(qc)\n",
    "st0.draw(output='latex')\n"
   ]
  },
  {
   "attachments": {},
   "cell_type": "markdown",
   "metadata": {
    "slideshow": {
     "slide_type": "slide"
    }
   },
   "source": [
    "## Adding Gates\n",
    "\n",
    "Now that we know how to initialize our state we want to know how to add some gates.\n",
    "\n",
    "This is actually very easy since it is just calling a `method` to the circuit `object`!\n",
    "\n",
    "The basic syntax goes like this: `qc.GATE(control_qubit1: QubitSpecifier, ..., target_qubit: QubitSpecifier)`. It is also important to know that we should add the gates from the left to the right.\n",
    "\n",
    "Let's try to make a very simple circuit consisting of three qubits and five gates. Two <b>X</b> gates acting on the first two qubits, followed by a <b>CCZ</b> gate controlled by these qubits and acting on the third and, again, two <b>X</b> gates acting on the first two qubits.\n",
    "\n",
    "This is actually the $Flip Operator$ from PSET9!"
   ]
  },
  {
   "cell_type": "code",
   "execution_count": 3,
   "metadata": {
    "slideshow": {
     "slide_type": "subslide"
    }
   },
   "outputs": [
    {
     "data": {
      "image/png": "[encoded data removed]",
      "text/plain": [
       "<Figure size 371.107x284.278 with 1 Axes>"
      ]
     },
     "execution_count": 3,
     "metadata": {},
     "output_type": "execute_result"
    }
   ],
   "source": [
    "qc = QuantumCircuit(3)\n",
    "\n",
    "qc.x(1)\n",
    "\n",
    "qc.x(2)\n",
    "\n",
    "qc.ccz(1, 2, 0)\n",
    "\n",
    "qc.x(1)\n",
    "\n",
    "qc.x(2)\n",
    "\n",
    "qc.draw('mpl')\n"
   ]
  },
  {
   "attachments": {},
   "cell_type": "markdown",
   "metadata": {
    "slideshow": {
     "slide_type": "slide"
    }
   },
   "source": [
    "## Evolution\n",
    "\n",
    "We can see what the circuit does to our initial state using the `evolve` method."
   ]
  },
  {
   "cell_type": "code",
   "execution_count": 4,
   "metadata": {
    "slideshow": {
     "slide_type": "subslide"
    }
   },
   "outputs": [
    {
     "data": {
      "text/latex": [
       "$$- |001\\rangle$$"
      ],
      "text/plain": [
       "<IPython.core.display.Latex object>"
      ]
     },
     "execution_count": 4,
     "metadata": {},
     "output_type": "execute_result"
    }
   ],
   "source": [
    "state = Statevector.from_label('001')\n",
    "\n",
    "state.evolve(qc).draw(output='latex')\n"
   ]
  },
  {
   "attachments": {},
   "cell_type": "markdown",
   "metadata": {
    "slideshow": {
     "slide_type": "slide"
    }
   },
   "source": [
    "## Measurement\n",
    "\n",
    "We move on to a more complex task. In PSET8 there is a circuit that allows us to measure the overlap between some arbitrary states  $|\\alpha⟩$ and $|\\beta⟩$.\n",
    "\n",
    "To test this we start initializing these qubits as random states (`random_statevector` method) and passing them through the circuit.\n",
    "\n",
    "We can measure the circuit by calling the `measure(qubit: QubitSpecifier, cbit: ClbitSpecifier)` method on the circuit `object` where the second argument is the bit where we want to store our measurement. If we wanted to measure all our qubits we could just use `measure.all()`.\n",
    "\n",
    "Afterwards, we construct an histogram by observing the results of the experiment many times using the `Aer` simulator.\n",
    "\n",
    "Then we are able to actually compute the overlap!"
   ]
  },
  {
   "cell_type": "code",
   "execution_count": 5,
   "metadata": {
    "slideshow": {
     "slide_type": "subslide"
    }
   },
   "outputs": [
    {
     "data": {
      "image/png": "[encoded data removed]",
      "text/plain": [
       "<Figure size 529.164x275.917 with 1 Axes>"
      ]
     },
     "execution_count": 5,
     "metadata": {},
     "output_type": "execute_result"
    }
   ],
   "source": [
    "from qiskit.quantum_info import random_statevector\n",
    "\n",
    "qc = QuantumCircuit(3, 1)\n",
    "\n",
    "state_a = random_statevector(2)\n",
    "state_b = random_statevector(2)\n",
    "\n",
    "actual_overlap = (np.abs(state_a.inner(state_b)))\n",
    "\n",
    "qc.initialize(state_a, 1), qc.initialize(state_b, 2), qc.h(0), qc.cswap(0, 1, 2), qc.h(0)\n",
    "\n",
    "qc.measure(0, 0)\n",
    "\n",
    "qc.draw('mpl', scale = 0.75)\n"
   ]
  },
  {
   "cell_type": "code",
   "execution_count": 6,
   "metadata": {
    "slideshow": {
     "slide_type": "subslide"
    }
   },
   "outputs": [
    {
     "data": {
      "image/png": "[encoded data removed]",
      "text/plain": [
       "<Figure size 400x400 with 1 Axes>"
      ]
     },
     "execution_count": 6,
     "metadata": {},
     "output_type": "execute_result"
    }
   ],
   "source": [
    "from qiskit import Aer, transpile, assemble\n",
    "from qiskit.visualization import plot_histogram\n",
    "\n",
    "simulator = Aer.get_backend('aer_simulator')\n",
    "circ = transpile(qc, simulator)\n",
    "result = simulator.run(qc).result()\n",
    "counts = result.get_counts(qc)\n",
    "\n",
    "plot_histogram(counts, title='Observations', figsize=(4, 4))\n"
   ]
  },
  {
   "cell_type": "code",
   "execution_count": 7,
   "metadata": {
    "slideshow": {
     "slide_type": "subslide"
    }
   },
   "outputs": [
    {
     "name": "stdout",
     "output_type": "stream",
     "text": [
      "Actual overlap: 0.6454241825568905, Measured overlap: 0.6265605517426069, Difference: 0.01886363081428355\n"
     ]
    }
   ],
   "source": [
    "measured_prob = counts.get('1') / (counts.get('0') + counts.get('1'))\n",
    "\n",
    "measured_overlap = np.abs(np.sqrt(1 - 2*measured_prob +0j))\n",
    "\n",
    "print(\"Actual overlap: \" + str(actual_overlap) + \", Measured overlap: \" +\n",
    "      str(measured_overlap) + \", Difference: \" + str(np.abs(actual_overlap-measured_overlap)))\n"
   ]
  },
  {
   "attachments": {},
   "cell_type": "markdown",
   "metadata": {
    "slideshow": {
     "slide_type": "slide"
    }
   },
   "source": [
    "## Making Deutsch-Jozsa\n",
    "\n",
    "The first step in implementing this algorithm is creating a function that generates random Oracles.\n",
    "\n",
    "In order to do this we first notice that the the Oracle leaves the system in the state: $\\frac{1}{\\sqrt{2^{n+1}}} \\sum_{x=0}^{2n-1} (-1)^{f(x)}|x⟩ $.\n",
    "\n",
    "If the Oracle is constant then it can be considered to either be the identity matrix $I$ or the diagonal matrix where all of it's elements are $-1$.\n",
    "\n",
    "If the Oracle is balanced then it can be viewed as a diagonal matrix where half of its elements are chosen randomly to be $-1$ and the rest $1$!"
   ]
  },
  {
   "cell_type": "code",
   "execution_count": 8,
   "metadata": {
    "slideshow": {
     "slide_type": "subslide"
    }
   },
   "outputs": [],
   "source": [
    "import random as rand\n",
    "\n",
    "def dj_oracle(n):\n",
    "    '''\n",
    "    Input: the registry size n\n",
    "    Output: Random unitary matrix U and a string\n",
    "\n",
    "    The function is chosen randomly to be constant or balanced.\n",
    "    If it's balanced it can either be f(x)=0 or f(x)=1.\n",
    "    If it's balanced we choose N / 2 elements without replacement\n",
    "\n",
    "    When f(x)=1 we multiply U by -1\n",
    "    When its balanced we multiply the chosen indexes by -1\n",
    "    '''\n",
    "\n",
    "    N = 2 ** n\n",
    "\n",
    "    indexes = list(np.arange(N))\n",
    "\n",
    "    U = np.identity(N)\n",
    "\n",
    "    type = rand.choice([\"constant\", \"balanced\"])\n",
    "\n",
    "    if type == \"constant\":\n",
    "\n",
    "        type = rand.choice([\"f(x)=0\", \"f(x)=1\"])\n",
    "\n",
    "        if type == \"f(x)=1\":\n",
    "\n",
    "            U = U * -1\n",
    "\n",
    "    if type == \"balanced\":\n",
    "\n",
    "        for i in range(int(N/2)):\n",
    "            ind = rand.choice(indexes)\n",
    "            U[ind][ind] = -1\n",
    "            indexes.remove(ind)\n",
    "\n",
    "    return U, type"
   ]
  },
  {
   "attachments": {},
   "cell_type": "markdown",
   "metadata": {
    "slideshow": {
     "slide_type": "subslide"
    }
   },
   "source": [
    "Then we can actually implement the algorithm.\n",
    "\n",
    "To do this we simply copy the steps from the original algorithm. \n",
    "\n",
    "Note: Since our return type is a `np.array` we use the `unitary` method to add the oracle to the circuit."
   ]
  },
  {
   "cell_type": "code",
   "execution_count": 9,
   "metadata": {
    "slideshow": {
     "slide_type": "subslide"
    }
   },
   "outputs": [],
   "source": [
    "def dj_algorithm(oracle):\n",
    "    '''\n",
    "    Input: The Oracle\n",
    "    Output: O circuito quântico dj\n",
    "\n",
    "    '''\n",
    "\n",
    "    n = int(np.log2(np.size(oracle[0])))\n",
    "\n",
    "    dj = QuantumCircuit(n + 1, n)\n",
    "\n",
    "    # Hadamard nos bits input\n",
    "    for i in range(n):\n",
    "        dj.h(i)\n",
    "\n",
    "    # |0> -> |1> -> |->\n",
    "    dj.x(n)\n",
    "    dj.h(n)\n",
    "\n",
    "    # Oráculo\n",
    "    dj.unitary(oracle, range(n))\n",
    "\n",
    "    for i in range(n):\n",
    "        dj.h(i)\n",
    "\n",
    "    for i in range(n):\n",
    "        dj.measure(i, i)\n",
    "\n",
    "    return dj\n"
   ]
  },
  {
   "attachments": {},
   "cell_type": "markdown",
   "metadata": {
    "slideshow": {
     "slide_type": "subslide"
    }
   },
   "source": [
    "Now we can finally simulate the algorithm using the techniques learned previously!"
   ]
  },
  {
   "cell_type": "code",
   "execution_count": 10,
   "metadata": {
    "slideshow": {
     "slide_type": "subslide"
    }
   },
   "outputs": [
    {
     "name": "stdout",
     "output_type": "stream",
     "text": [
      "balanced\n"
     ]
    },
    {
     "data": {
      "image/png": "[encoded data removed]",
      "text/plain": [
       "<Figure size 700x500 with 1 Axes>"
      ]
     },
     "execution_count": 10,
     "metadata": {},
     "output_type": "execute_result"
    }
   ],
   "source": [
    "U, type = dj_oracle(3)\n",
    "print(type)\n",
    "dj = dj_algorithm(U)\n",
    "\n",
    "circ = transpile(dj, simulator)\n",
    "result = simulator.run(circ, shots=1024).result()\n",
    "counts = result.get_counts(circ)\n",
    "\n",
    "plot_histogram(counts, title='Observations')"
   ]
  },
  {
   "attachments": {},
   "cell_type": "markdown",
   "metadata": {
    "slideshow": {
     "slide_type": "slide"
    }
   },
   "source": [
    "## Making Grover's\n",
    "\n",
    "As was previously done, we need to start by constructing a random Oracle.\n",
    "\n",
    "In the original problem we can know a priori the number of solutions. If we don't know then we choose a random number between $1$ and $N$.\n",
    "\n",
    "Also if the solution is not known it is useful to consider a list of size $2N$ instead of $N$, since the solutions might make up most of our list. We apply the same strategy if the solution is known and takes up half or more of the list.\n",
    "\n",
    "Then we generate $M$ random indexes ranging from $0$ to $N-1$. These indexes will be the indexes of our solutions.\n",
    "\n",
    "We then take the identity matrix $I$ and multiply the elements corresponding to these indexes by $-1$, since the operation of the Oracle acting on our system is $|x⟩ \\to (-1)^{f(x)}|x⟩$. ($(-1)^{f(x)}=-1$ if $x$ is solution)!"
   ]
  },
  {
   "cell_type": "code",
   "execution_count": 11,
   "metadata": {
    "slideshow": {
     "slide_type": "subslide"
    }
   },
   "outputs": [],
   "source": [
    "def g_oracle(N, M='r'):\n",
    "    '''\n",
    "    Input: Size of the list and number of solutions if known.\n",
    "    Output: The Oracle and the ideal number of iterations.\n",
    "\n",
    "    '''\n",
    "\n",
    "    solutions = []\n",
    "\n",
    "    if M == 'r':\n",
    "        M = rand.randint(1, N)\n",
    "        N = 2 * N\n",
    "\n",
    "    elif M >= N / 2:\n",
    "        N = 2 * N\n",
    "\n",
    "    n = int(np.ceil(np.log2(N)))\n",
    "\n",
    "    indexes = list(range(N))\n",
    "\n",
    "    # M random solutions\n",
    "    for i in range(M):\n",
    "        ind = rand.choice(indexes)\n",
    "        solutions.append(ind)\n",
    "        indexes.remove(ind)\n",
    "\n",
    "    bin_sol = []\n",
    "    for sol in solutions:\n",
    "        bin_sol.append('{0:b}'.format(sol))\n",
    "    print(np.sort(bin_sol))\n",
    "\n",
    "    U = np.identity(2 ** n)\n",
    "    for ind in solutions:\n",
    "        U[ind][ind] = U[ind][ind] * -1\n",
    "\n",
    "    iter = int(np.floor((np.pi / 4) * np.sqrt(N/M)))\n",
    "\n",
    "    return U, iter"
   ]
  },
  {
   "attachments": {},
   "cell_type": "markdown",
   "metadata": {
    "slideshow": {
     "slide_type": "subslide"
    }
   },
   "source": [
    "The next logical step is to make the grover's iterator $G$. This is very simply done!.\n",
    "\n",
    "In fact, we only need to look at the expression $G = (2|s⟩⟨s| − I)O$, where $s$ is the uniform superposition of states and O is our oracle.\n",
    "\n",
    "We also introduce another useful method, the `to_gate` method, to cast this `np.array object` to `gate object`"
   ]
  },
  {
   "cell_type": "code",
   "execution_count": 12,
   "metadata": {
    "slideshow": {
     "slide_type": "subslide"
    }
   },
   "outputs": [],
   "source": [
    "def G(n, oracle):\n",
    "\n",
    "    qc = QuantumCircuit(n)\n",
    "\n",
    "    dim = 2 ** n\n",
    "\n",
    "    uni_sup = np.ones((1, dim)) * (1 / (np.sqrt(dim)))\n",
    "\n",
    "    G = np.matmul((2 * np.kron(np.transpose(uni_sup),\n",
    "                  uni_sup) - np.identity(dim)), oracle)\n",
    "\n",
    "    qc.unitary(G, range(n))\n",
    "\n",
    "    G_gate = qc.to_gate()\n",
    "    G_gate.name = \"G\"\n",
    "\n",
    "    return G_gate\n"
   ]
  },
  {
   "attachments": {},
   "cell_type": "markdown",
   "metadata": {
    "slideshow": {
     "slide_type": "subslide"
    }
   },
   "source": [
    "Lastly, we implement the algorithm by following the steps of the original and run a couple of simulations!"
   ]
  },
  {
   "cell_type": "code",
   "execution_count": 13,
   "metadata": {
    "slideshow": {
     "slide_type": "subslide"
    }
   },
   "outputs": [],
   "source": [
    "def grover(oracle):\n",
    "\n",
    "    n = int(np.log2(np.size(oracle[0])))\n",
    "\n",
    "    qc = QuantumCircuit(n)\n",
    "\n",
    "    for qubit in range(n):\n",
    "        qc.h(qubit)\n",
    "\n",
    "    for i in range(ITER):\n",
    "        qc.append(G(n, oracle), range(n))\n",
    "\n",
    "    qc.measure_all()\n",
    "    return qc\n"
   ]
  },
  {
   "cell_type": "code",
   "execution_count": 14,
   "metadata": {
    "slideshow": {
     "slide_type": "subslide"
    }
   },
   "outputs": [
    {
     "name": "stdout",
     "output_type": "stream",
     "text": [
      "['100' '101' '111']\n"
     ]
    },
    {
     "data": {
      "image/png": "[encoded data removed]",
      "text/plain": [
       "<Figure size 700x500 with 1 Axes>"
      ]
     },
     "execution_count": 14,
     "metadata": {},
     "output_type": "execute_result"
    }
   ],
   "source": [
    "oracle, ITER = g_oracle(4, 3)\n",
    "grover_qc = grover(oracle)\n",
    "\n",
    "transpiled_grover_circuit = transpile(grover_qc, simulator)\n",
    "results = simulator.run(transpiled_grover_circuit, shots=1024).result()\n",
    "counts = results.get_counts()\n",
    "plot_histogram(counts)\n"
   ]
  },
  {
   "attachments": {},
   "cell_type": "markdown",
   "metadata": {
    "slideshow": {
     "slide_type": "slide"
    }
   },
   "source": [
    "## Using Real Devices\n",
    "\n",
    "We can run our circuit in real devices. For that we need to get a `provider`, a `device` and a `backend`. Some parameters might need tuning according to the circuit we are trying to simulate.\n",
    "\n",
    "If you want to simulate it yourself you will need to create an IBM account.\n",
    "\n",
    "This will not be done live sadly because it takes time!"
   ]
  },
  {
   "cell_type": "code",
   "execution_count": 21,
   "metadata": {
    "slideshow": {
     "slide_type": "subslide"
    }
   },
   "outputs": [
    {
     "name": "stdout",
     "output_type": "stream",
     "text": [
      "['10' '11']\n"
     ]
    }
   ],
   "source": [
    "from qiskit import IBMQ\n",
    "from qiskit.providers.ibmq import least_busy\n",
    "\n",
    "N = 3\n",
    "\n",
    "oracle, ITER = g_oracle(3)\n",
    "grover_qc = grover(oracle)\n",
    "\n",
    "size = np.ceil(np.log2(N))\n",
    "\n",
    "provider = IBMQ.get_provider(\"ibm-q\")\n",
    "device = least_busy(provider.backends\n",
    "(filters=lambda x: int(x.configuration().n_qubits) >= size and \n",
    "not x.configuration().simulator and x.status().operational==True))\n",
    "\n",
    "backend = least_busy(provider.backends\n",
    "(filters=lambda x: int(x.configuration().n_qubits) >= size and \n",
    "not x.configuration().simulator and x.status().operational==True))"
   ]
  },
  {
   "cell_type": "code",
   "execution_count": 23,
   "metadata": {
    "slideshow": {
     "slide_type": "subslide"
    }
   },
   "outputs": [
    {
     "data": {
      "image/png": "[encoded data removed]",
      "text/plain": [
       "<Figure size 700x500 with 1 Axes>"
      ]
     },
     "execution_count": 23,
     "metadata": {},
     "output_type": "execute_result"
    }
   ],
   "source": [
    "# Run our circuit on the least busy backend. Monitor the execution of the job in the queue\n",
    "from qiskit.tools.monitor import job_monitor\n",
    "transpiled_grover_circuit = transpile(grover_qc, \n",
    "device, optimization_level=0)\n",
    "\n",
    "job = device.run(transpiled_grover_circuit)\n",
    "\n",
    "# Get the results from the computation\n",
    "results = job.result()\n",
    "answer = results.get_counts(grover_qc)\n",
    "plot_histogram(answer)\n"
   ]
  },
  {
   "attachments": {},
   "cell_type": "markdown",
   "metadata": {
    "slideshow": {
     "slide_type": "slide"
    }
   },
   "source": [
    "## Conclusion\n",
    "\n",
    "We have seen that <font color=\"purple\">Qiskit</font> is a powerful tool for simulating our quantum circuits, allowing us to confirm our theoretical knowledge about both the Deutsch-Jozsa Algorithm and Grover's Algorithm.\n",
    "\n",
    "Using this kind of software is imperative in bridging the worlds of mathematics, computer science, and quantum physics, hopefully, someday, leading to the discovery of new, more complex ground-breaking algorithms."
   ]
  },
  {
   "attachments": {},
   "cell_type": "markdown",
   "metadata": {
    "slideshow": {
     "slide_type": "skip"
    }
   },
   "source": [
    "## Bibliography\n",
    "\n",
    "[1]  Nielsen, M., & Chuang, I. (2010). Quantum Computation and Quantum Information. Cambridge University Press\n",
    "\n",
    "[2]  Library Documentation https://qiskit.org/documentation"
   ]
  },
  {
   "attachments": {},
   "cell_type": "markdown",
   "metadata": {
    "slideshow": {
     "slide_type": "slide"
    }
   },
   "source": [
    "<h1><center>Thank you for listening!</center></h1>"
   ]
  }
 ],
 "metadata": {
  "kernelspec": {
   "display_name": "Python 3",
   "language": "python",
   "name": "python3"
  },
  "language_info": {
   "codemirror_mode": {
    "name": "ipython",
    "version": 3
   },
   "file_extension": ".py",
   "mimetype": "text/x-python",
   "name": "python",
   "nbconvert_exporter": "python",
   "pygments_lexer": "ipython3",
   "version": "3.9.2"
  },
  "orig_nbformat": 4,
  "vscode": {
   "interpreter": {
    "hash": "e7370f93d1d0cde622a1f8e1c04877d8463912d04d973331ad4851f04de6915a"
   }
  }
 },
 "nbformat": 4,
 "nbformat_minor": 2
}
