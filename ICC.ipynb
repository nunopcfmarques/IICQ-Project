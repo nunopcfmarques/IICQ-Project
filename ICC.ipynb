{
 "cells": [
  {
   "cell_type": "code",
   "execution_count": 337,
   "metadata": {},
   "outputs": [],
   "source": [
    "import numpy as np\n",
    "import random as rand\n"
   ]
  },
  {
   "attachments": {},
   "cell_type": "markdown",
   "metadata": {},
   "source": [
    "# Deutsch-Jozsa"
   ]
  },
  {
   "cell_type": "code",
   "execution_count": 338,
   "metadata": {},
   "outputs": [],
   "source": [
    "def dj_oracle(n):\n",
    "    '''\n",
    "    Input: o tamanho do registro de input n\n",
    "    Output: Uma matriz aleatória unitária U e uma string\n",
    "\n",
    "    Escolhe aleatoriamente se a função é constante ou equilibrada.\n",
    "    Se for constante escolhe aleatoriamente se é do tipo f(x) = 0 ou f(x) = 1\n",
    "    Se for equilibrada escolhe N/2 índices aleatórios sem reposição\n",
    "\n",
    "    Quando é f(x) = 1 multiplica-se a matriz identidade por -1 ((-1)^f(x) == -1)\n",
    "    Quando é equilibrada multiplicam-se por -1 os índices da matriz identidade escolhidos\n",
    "    '''\n",
    "\n",
    "    N = 2 ** n\n",
    "\n",
    "    indexes = list(np.arange(N))\n",
    "\n",
    "    U = np.identity(N)\n",
    "\n",
    "    type = rand.choice([\"constant\", \"balanced\"])\n",
    "\n",
    "    if type == \"constant\":\n",
    "\n",
    "        type = rand.choice([\"f(x)=0\", \"f(x)=1\"])\n",
    "\n",
    "        if type == \"f(x)=1\":\n",
    "\n",
    "            U = U * -1\n",
    "    \n",
    "    if type == \"balanced\":\n",
    "        \n",
    "        for i in range(int(N/2)):\n",
    "            ind=rand.choice(indexes)\n",
    "            U[ind][ind] = -1\n",
    "            indexes.remove(ind)\n",
    "    \n",
    "    return U, type"
   ]
  },
  {
   "cell_type": "code",
   "execution_count": 339,
   "metadata": {},
   "outputs": [],
   "source": [
    "from qiskit import QuantumCircuit\n",
    "\n",
    "def dj_algorithm(oracle):\n",
    "    '''\n",
    "    Input: O oráculo U_f\n",
    "    Output: O circuito quântico dj\n",
    "\n",
    "    Segue os passos\n",
    "    '''\n",
    "\n",
    "    n = int(np.log2(np.size(oracle[0])))\n",
    "\n",
    "    dj = QuantumCircuit(n + 1, n)\n",
    "\n",
    "    # Hadamard nos bits input\n",
    "    for i in range(n):\n",
    "        dj.h(i)\n",
    "\n",
    "    # |0> -> |1> -> |->\n",
    "    dj.x(n)\n",
    "    dj.h(n)\n",
    "    \n",
    "    # Oráculo\n",
    "    dj.unitary(oracle, range(n))\n",
    "\n",
    "    for i in range(n):\n",
    "        dj.h(i)\n",
    "    \n",
    "    for i in range(n):\n",
    "        dj.measure(i,i)\n",
    "    \n",
    "    return dj"
   ]
  },
  {
   "cell_type": "code",
   "execution_count": 340,
   "metadata": {},
   "outputs": [],
   "source": [
    "from qiskit import transpile, Aer\n",
    "simulator = Aer.get_backend('qasm_simulator')"
   ]
  },
  {
   "cell_type": "code",
   "execution_count": 341,
   "metadata": {},
   "outputs": [
    {
     "name": "stdout",
     "output_type": "stream",
     "text": [
      "balanced\n"
     ]
    },
    {
     "data": {
      "image/png": "[encoded data removed]",
      "text/plain": [
       "<Figure size 700x500 with 1 Axes>"
      ]
     },
     "execution_count": 341,
     "metadata": {},
     "output_type": "execute_result"
    }
   ],
   "source": [
    "from qiskit.visualization import plot_histogram\n",
    "U, type = dj_oracle(3)     \n",
    "print(type)\n",
    "dj = dj_algorithm(U)\n",
    "\n",
    "circ = transpile(dj, simulator)\n",
    "result = simulator.run(circ, shots=1024).result()\n",
    "counts = result.get_counts(circ)\n",
    "\n",
    "plot_histogram(counts, title='Observações')"
   ]
  },
  {
   "attachments": {},
   "cell_type": "markdown",
   "metadata": {},
   "source": [
    "# Grover"
   ]
  },
  {
   "cell_type": "code",
   "execution_count": 342,
   "metadata": {},
   "outputs": [],
   "source": [
    "def g_oracle(N, M = 'r'):\n",
    "    '''\n",
    "    Input: Tamanho da lista e número de soluções. Se for desconhecido escolhemos aleatoriamente\n",
    "    Output: O oráculo e o número de iterações ideal\n",
    "    '''\n",
    "\n",
    "    solutions = []\n",
    "\n",
    "    if M == 'r':\n",
    "        # Gives number of solutions\n",
    "        M = rand.randint(1, N)\n",
    "    \n",
    "    if M >= N / 2:\n",
    "        N = 2 * N\n",
    "\n",
    "    n = int(np.ceil(np.log2(N)))\n",
    "\n",
    "    indexes = list(range(N))\n",
    "    \n",
    "    # Making M random solutions\n",
    "    for i in range(M):\n",
    "        ind = rand.choice(indexes)\n",
    "        solutions.append(ind)\n",
    "        indexes.remove(ind)\n",
    "    \n",
    "    bin_sol = []\n",
    "    for sol in solutions:\n",
    "        bin_sol.append('{0:b}'.format(sol))\n",
    "    print(np.sort(bin_sol))\n",
    "    \n",
    "    U = np.identity(2 ** n)\n",
    "    for ind in solutions:\n",
    "            U[ind][ind] = U[ind][ind] * -1\n",
    "\n",
    "    iter = int(np.floor((np.pi / 4) * np.sqrt(N/M)) )        \n",
    "    \n",
    "    return U, iter"
   ]
  },
  {
   "cell_type": "code",
   "execution_count": 343,
   "metadata": {},
   "outputs": [],
   "source": [
    "def G(n, oracle):\n",
    "\n",
    "    qc = QuantumCircuit(n)\n",
    "\n",
    "    dim = 2 ** n\n",
    "\n",
    "    uni_sup = np.ones((1, dim)) * (1 / (np.sqrt(dim)))\n",
    "\n",
    "    G = np.matmul((2 * np.kron(np.transpose(uni_sup), uni_sup) - np.identity(dim)), oracle)\n",
    "\n",
    "    qc.unitary(G, range(n))\n",
    "\n",
    "    G_gate = qc.to_gate()\n",
    "    G_gate.name = \"G\"\n",
    "\n",
    "    return G_gate\n"
   ]
  },
  {
   "cell_type": "code",
   "execution_count": 344,
   "metadata": {},
   "outputs": [],
   "source": [
    "\n",
    "\n",
    "def grover(oracle):\n",
    "\n",
    "    n = int(np.log2(np.size(oracle[0])))\n",
    "\n",
    "    qc = QuantumCircuit(n)\n",
    "\n",
    "    for qubit in range(n):\n",
    "        qc.h(qubit)\n",
    "\n",
    "    for i in range(ITER):\n",
    "        qc.append(G(n, oracle), range(n))\n",
    "    \n",
    "    qc.measure_all()\n",
    "    return qc"
   ]
  },
  {
   "cell_type": "code",
   "execution_count": 350,
   "metadata": {},
   "outputs": [
    {
     "name": "stdout",
     "output_type": "stream",
     "text": [
      "['0' '1' '1000' '11']\n"
     ]
    }
   ],
   "source": [
    "oracle, ITER = g_oracle(7)\n",
    "grover_qc = grover(oracle)\n"
   ]
  },
  {
   "cell_type": "code",
   "execution_count": 351,
   "metadata": {},
   "outputs": [
    {
     "data": {
      "image/png": "[encoded data removed]",
      "text/plain": [
       "<Figure size 700x500 with 1 Axes>"
      ]
     },
     "execution_count": 351,
     "metadata": {},
     "output_type": "execute_result"
    }
   ],
   "source": [
    "\n",
    "transpiled_grover_circuit = transpile(grover_qc, simulator)\n",
    "results = simulator.run(transpiled_grover_circuit, shots=3000).result()\n",
    "counts = results.get_counts()\n",
    "plot_histogram(counts)"
   ]
  }
 ],
 "metadata": {
  "kernelspec": {
   "display_name": "Python 3",
   "language": "python",
   "name": "python3"
  },
  "language_info": {
   "codemirror_mode": {
    "name": "ipython",
    "version": 3
   },
   "file_extension": ".py",
   "mimetype": "text/x-python",
   "name": "python",
   "nbconvert_exporter": "python",
   "pygments_lexer": "ipython3",
   "version": "3.9.2"
  },
  "orig_nbformat": 4,
  "vscode": {
   "interpreter": {
    "hash": "e7370f93d1d0cde622a1f8e1c04877d8463912d04d973331ad4851f04de6915a"
   }
  }
 },
 "nbformat": 4,
 "nbformat_minor": 2
}
