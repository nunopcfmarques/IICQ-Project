{
 "cells": [
  {
   "cell_type": "code",
   "execution_count": 252,
   "metadata": {},
   "outputs": [
    {
     "data": {
      "text/html": [
       "<pre style=\"word-wrap: normal;white-space: pre;background: #fff0;line-height: 1.1;font-family: &quot;Courier New&quot;,Courier,monospace\">                     \n",
       "q291_0: ──────■──────\n",
       "        ┌───┐ │ ┌───┐\n",
       "q291_1: ┤ X ├─■─┤ X ├\n",
       "        ├───┤ │ ├───┤\n",
       "q291_2: ┤ X ├─■─┤ X ├\n",
       "        └───┘   └───┘</pre>"
      ],
      "text/plain": [
       "                     \n",
       "q291_0: ──────■──────\n",
       "        ┌───┐ │ ┌───┐\n",
       "q291_1: ┤ X ├─■─┤ X ├\n",
       "        ├───┤ │ ├───┤\n",
       "q291_2: ┤ X ├─■─┤ X ├\n",
       "        └───┘   └───┘"
      ]
     },
     "execution_count": 252,
     "metadata": {},
     "output_type": "execute_result"
    }
   ],
   "source": [
    "import numpy as np\n",
    "from qiskit import QuantumCircuit, transpile, assemble, BasicAer, Aer, QuantumRegister\n",
    "from qiskit.quantum_info import Statevector\n",
    "from qiskit.providers.aer import QasmSimulator\n",
    "from qiskit.visualization import plot_histogram, array_to_latex\n",
    "\n",
    "# Use Aer's qasm_simulator\n",
    "simulator = QasmSimulator()\n",
    "\n",
    "# Create a Quantum Circuit acting on the q register\n",
    "\n",
    "q = QuantumRegister(3)\n",
    "\n",
    "circuit = QuantumCircuit(q)\n",
    "\n",
    "circuit.x(1)\n",
    "\n",
    "circuit.x(2)\n",
    "\n",
    "circuit.ccz(1,2,0)\n",
    "\n",
    "circuit.x(1)\n",
    "\n",
    "circuit.x(2)\n",
    "\n",
    "circuit.draw()\n"
   ]
  },
  {
   "cell_type": "code",
   "execution_count": 253,
   "metadata": {},
   "outputs": [
    {
     "data": {
      "text/latex": [
       "$$\n",
       "\\text{U = }\n",
       "\\begin{bmatrix}\n",
       "1 & 0 & 0 & 0 & 0 & 0 & 0 & 0  \\\\\n",
       " 0 & -1 & 0 & 0 & 0 & 0 & 0 & 0  \\\\\n",
       " 0 & 0 & 1 & 0 & 0 & 0 & 0 & 0  \\\\\n",
       " 0 & 0 & 0 & 1 & 0 & 0 & 0 & 0  \\\\\n",
       " 0 & 0 & 0 & 0 & 1 & 0 & 0 & 0  \\\\\n",
       " 0 & 0 & 0 & 0 & 0 & 1 & 0 & 0  \\\\\n",
       " 0 & 0 & 0 & 0 & 0 & 0 & 1 & 0  \\\\\n",
       " 0 & 0 & 0 & 0 & 0 & 0 & 0 & 1  \\\\\n",
       " \\end{bmatrix}\n",
       "$$"
      ],
      "text/plain": [
       "<IPython.core.display.Latex object>"
      ]
     },
     "execution_count": 253,
     "metadata": {},
     "output_type": "execute_result"
    }
   ],
   "source": [
    "backend = BasicAer.get_backend('unitary_simulator')\n",
    "job = backend.run(transpile(circuit, backend))\n",
    "result = job.result().get_unitary(circuit, decimals=3)\n",
    "array_to_latex(result, prefix=\"\\\\text{U = }\")\n"
   ]
  },
  {
   "cell_type": "code",
   "execution_count": 254,
   "metadata": {},
   "outputs": [
    {
     "data": {
      "text/html": [
       "<pre style=\"word-wrap: normal;white-space: pre;background: #fff0;line-height: 1.1;font-family: &quot;Courier New&quot;,Courier,monospace\">        ┌───┐┌───┐   ┌───┐┌───┐\n",
       "q294_0: ┤ H ├┤ X ├─■─┤ X ├┤ H ├\n",
       "        ├───┤├───┤ │ ├───┤├───┤\n",
       "q294_1: ┤ H ├┤ X ├─■─┤ X ├┤ H ├\n",
       "        ├───┤├───┤ │ ├───┤├───┤\n",
       "q294_2: ┤ H ├┤ X ├─■─┤ X ├┤ H ├\n",
       "        └───┘└───┘   └───┘└───┘</pre>"
      ],
      "text/plain": [
       "        ┌───┐┌───┐   ┌───┐┌───┐\n",
       "q294_0: ┤ H ├┤ X ├─■─┤ X ├┤ H ├\n",
       "        ├───┤├───┤ │ ├───┤├───┤\n",
       "q294_1: ┤ H ├┤ X ├─■─┤ X ├┤ H ├\n",
       "        ├───┤├───┤ │ ├───┤├───┤\n",
       "q294_2: ┤ H ├┤ X ├─■─┤ X ├┤ H ├\n",
       "        └───┘└───┘   └───┘└───┘"
      ]
     },
     "execution_count": 254,
     "metadata": {},
     "output_type": "execute_result"
    }
   ],
   "source": [
    "q = QuantumRegister(3)\n",
    "\n",
    "circuit = QuantumCircuit(q)\n",
    "\n",
    "circuit.h(1)\n",
    "\n",
    "circuit.h(2)\n",
    "\n",
    "circuit.h(0)\n",
    "\n",
    "circuit.x(1)\n",
    "\n",
    "circuit.x(2)\n",
    "\n",
    "circuit.x(0)\n",
    "\n",
    "circuit.ccz(1, 2, 0)\n",
    "\n",
    "circuit.x(1)\n",
    "\n",
    "circuit.x(2)\n",
    "\n",
    "circuit.x(0)\n",
    "\n",
    "circuit.h(1)\n",
    "\n",
    "circuit.h(2)\n",
    "\n",
    "circuit.h(0)\n",
    "\n",
    "circuit.draw()\n"
   ]
  },
  {
   "cell_type": "code",
   "execution_count": 255,
   "metadata": {},
   "outputs": [
    {
     "data": {
      "text/latex": [
       "$$\n",
       "\\text{U = }\n",
       "\\begin{bmatrix}\n",
       "\\tfrac{3}{4} & -\\tfrac{1}{4} & -\\tfrac{1}{4} & -\\tfrac{1}{4} & -\\tfrac{1}{4} & -\\tfrac{1}{4} & -\\tfrac{1}{4} & -\\tfrac{1}{4}  \\\\\n",
       " -\\tfrac{1}{4} & \\tfrac{3}{4} & -\\tfrac{1}{4} & -\\tfrac{1}{4} & -\\tfrac{1}{4} & -\\tfrac{1}{4} & -\\tfrac{1}{4} & -\\tfrac{1}{4}  \\\\\n",
       " -\\tfrac{1}{4} & -\\tfrac{1}{4} & \\tfrac{3}{4} & -\\tfrac{1}{4} & -\\tfrac{1}{4} & -\\tfrac{1}{4} & -\\tfrac{1}{4} & -\\tfrac{1}{4}  \\\\\n",
       " -\\tfrac{1}{4} & -\\tfrac{1}{4} & -\\tfrac{1}{4} & \\tfrac{3}{4} & -\\tfrac{1}{4} & -\\tfrac{1}{4} & -\\tfrac{1}{4} & -\\tfrac{1}{4}  \\\\\n",
       " -\\tfrac{1}{4} & -\\tfrac{1}{4} & -\\tfrac{1}{4} & -\\tfrac{1}{4} & \\tfrac{3}{4} & -\\tfrac{1}{4} & -\\tfrac{1}{4} & -\\tfrac{1}{4}  \\\\\n",
       " -\\tfrac{1}{4} & -\\tfrac{1}{4} & -\\tfrac{1}{4} & -\\tfrac{1}{4} & -\\tfrac{1}{4} & \\tfrac{3}{4} & -\\tfrac{1}{4} & -\\tfrac{1}{4}  \\\\\n",
       " -\\tfrac{1}{4} & -\\tfrac{1}{4} & -\\tfrac{1}{4} & -\\tfrac{1}{4} & -\\tfrac{1}{4} & -\\tfrac{1}{4} & \\tfrac{3}{4} & -\\tfrac{1}{4}  \\\\\n",
       " -\\tfrac{1}{4} & -\\tfrac{1}{4} & -\\tfrac{1}{4} & -\\tfrac{1}{4} & -\\tfrac{1}{4} & -\\tfrac{1}{4} & -\\tfrac{1}{4} & \\tfrac{3}{4}  \\\\\n",
       " \\end{bmatrix}\n",
       "$$"
      ],
      "text/plain": [
       "<IPython.core.display.Latex object>"
      ]
     },
     "execution_count": 255,
     "metadata": {},
     "output_type": "execute_result"
    }
   ],
   "source": [
    "backend = BasicAer.get_backend('unitary_simulator')\n",
    "job = backend.run(transpile(circuit, backend))\n",
    "result = job.result().get_unitary(circuit, decimals=3)\n",
    "array_to_latex(result, prefix=\"\\\\text{U = }\")\n"
   ]
  },
  {
   "cell_type": "code",
   "execution_count": 256,
   "metadata": {},
   "outputs": [
    {
     "data": {
      "text/latex": [
       "$$- \\frac{\\sqrt{2}}{4} |000\\rangle- \\frac{\\sqrt{2}}{4} |001\\rangle- \\frac{\\sqrt{2}}{4} |010\\rangle- \\frac{\\sqrt{2}}{4} |011\\rangle- \\frac{\\sqrt{2}}{4} |100\\rangle- \\frac{\\sqrt{2}}{4} |101\\rangle- \\frac{\\sqrt{2}}{4} |110\\rangle- \\frac{\\sqrt{2}}{4} |111\\rangle$$"
      ],
      "text/plain": [
       "<IPython.core.display.Latex object>"
      ]
     },
     "execution_count": 256,
     "metadata": {},
     "output_type": "execute_result"
    }
   ],
   "source": [
    "q = QuantumRegister(3)\n",
    "\n",
    "circuit = QuantumCircuit(q)\n",
    "\n",
    "circuit.initialize([1/np.sqrt(8), 1/np.sqrt(8), 1 /\n",
    "                   np.sqrt(8), 1/np.sqrt(8), 1/np.sqrt(8), 1/np.sqrt(8), 1/np.sqrt(8), 1/np.sqrt(8)], qubits=[q[0], q[1], q[2]])\n",
    "\n",
    "circuit.h(1)\n",
    "\n",
    "circuit.h(2)\n",
    "\n",
    "circuit.h(0)\n",
    "\n",
    "circuit.x(1)\n",
    "\n",
    "circuit.x(2)\n",
    "\n",
    "circuit.x(0)\n",
    "\n",
    "circuit.ccz(1, 2, 0)\n",
    "\n",
    "circuit.x(1)\n",
    "\n",
    "circuit.x(2)\n",
    "\n",
    "circuit.x(0)\n",
    "\n",
    "circuit.h(1)\n",
    "\n",
    "circuit.h(2)\n",
    "\n",
    "circuit.h(0)\n",
    "\n",
    "st0 = Statevector(circuit)\n",
    "st0.draw(output='latex')\n"
   ]
  },
  {
   "attachments": {},
   "cell_type": "markdown",
   "metadata": {},
   "source": [
    "# IICQ Project\n",
    "\n",
    "The goal of this project is to show how to build quantum circuits using qiskit.\n",
    "\n",
    "The first step is let people what Qiskit is and how to actually acess it (this is a python library yada yada yada) - Only done in ppt\n",
    "\n",
    "The second step is to actually show how you can manipulate the basic properties of the circuit:\n",
    "\n",
    "- How to initialize the register (all in littleEndian but clarify it can be changed)\n",
    "- How to initialize the state\n",
    "- How to acess the state vector  \n",
    "- How to make controlled gates (littleEndian)\n",
    "- How to measure\n",
    "- How to simulate the circuit \n",
    "- How to draw\n",
    "\n",
    "The third step is to show some known algorithms in Qiskit\n",
    "\n",
    "- Grover's or Deutsche-Jostza or both (this is good practice for the test)\n",
    "- Maybe even some cryptographic protocol! (No theory, just for show remember this is 15 mins)"
   ]
  },
  {
   "attachments": {},
   "cell_type": "markdown",
   "metadata": {},
   "source": [
    "## Initialization\n",
    "\n",
    "- Use QuantumRegister(n) and ClassicalRegister(k), this way you can actually acess the qubits and bits. Then use QuantumCircuit(n, k)\n",
    "- By default each qubit is set to the set $\\ket{0}$.\n",
    "- You can initialize the qubits by labelling with a string (e.g '001') or by using a list separated by commas. This values in this list are the scalars for the basis vectors. Be mindful of littleEndian!\n",
    "\n",
    "We give some ordering examples:\n",
    "\n",
    "- For a two-qubit system: $\\ket{00} \\ket{01} \\ket{10} \\ket{11}$\n",
    "\n",
    "- For a three-qubit system : $\\ket{000} \\ket{001} \\ket{010} \\ket{011} \\ket{100} \\ket{101} \\ket{110} \\ket{111}$"
   ]
  },
  {
   "cell_type": "code",
   "execution_count": 257,
   "metadata": {},
   "outputs": [],
   "source": [
    "from qiskit import QuantumCircuit, QuantumRegister, ClassicalRegister"
   ]
  },
  {
   "cell_type": "code",
   "execution_count": 258,
   "metadata": {},
   "outputs": [],
   "source": [
    "# Helps with initialization. Default 0 since we might not need a classical register.\n",
    "def quantum_initialization(n, k = 0):\n",
    "    q = QuantumRegister(n)\n",
    "    c = ClassicalRegister(k)\n",
    "\n",
    "    qc = QuantumCircuit(n, k)\n",
    "\n",
    "    return q, c, qc"
   ]
  },
  {
   "cell_type": "code",
   "execution_count": 259,
   "metadata": {},
   "outputs": [
    {
     "data": {
      "text/latex": [
       "$$ |000\\rangle$$"
      ],
      "text/plain": [
       "<IPython.core.display.Latex object>"
      ]
     },
     "execution_count": 259,
     "metadata": {},
     "output_type": "execute_result"
    }
   ],
   "source": [
    "# Initialization\n",
    "q, c, qc = quantum_initialization(3)\n",
    "\n",
    "qc.initialize([1, 0, 0, 0, 0, 0, 0, 0], qc.qubits)\n",
    "\n",
    "st0 = Statevector(qc)\n",
    "st0.draw(output='latex')"
   ]
  },
  {
   "cell_type": "code",
   "execution_count": 260,
   "metadata": {},
   "outputs": [
    {
     "data": {
      "text/latex": [
       "$$ |000\\rangle$$"
      ],
      "text/plain": [
       "<IPython.core.display.Latex object>"
      ]
     },
     "execution_count": 260,
     "metadata": {},
     "output_type": "execute_result"
    }
   ],
   "source": [
    "qc.initialize('000', qc.qubits)\n",
    "\n",
    "st0 = Statevector(qc)\n",
    "st0.draw(output='latex')"
   ]
  },
  {
   "attachments": {},
   "cell_type": "markdown",
   "metadata": {},
   "source": [
    "## Making Gates\n",
    "\n",
    "Now that we know how to initialize our state lets try to make a very simple gate. For example, let's look at the Flip Operator (from PSET9)\n",
    "\n",
    "The circuit is composed of three qubits and five gates: 4 X gates and 1 CCZ gate\n",
    "\n",
    "To make the gates we just need to type qc.\"gate\"(\"index of qubit\"). If this gate is controlled we first arguments are the control qubits and the last is the target qubit.\n",
    "\n",
    "The X gates are acting on the second and third qubit.\n",
    "\n",
    "The CCZ gate acts on the first qubit.\n",
    "\n",
    "We write the circuit from left to right"
   ]
  },
  {
   "cell_type": "code",
   "execution_count": 261,
   "metadata": {},
   "outputs": [
    {
     "data": {
      "image/png": "[encoded data removed]",
      "text/plain": [
       "<Figure size 371.107x284.278 with 1 Axes>"
      ]
     },
     "execution_count": 261,
     "metadata": {},
     "output_type": "execute_result"
    }
   ],
   "source": [
    "\n",
    "q, c, qc = quantum_initialization(3)\n",
    "\n",
    "qc.x(1) \n",
    "\n",
    "qc.x(2)\n",
    "\n",
    "qc.ccz(1, 2, 0)\n",
    "\n",
    "qc.x(1)\n",
    "\n",
    "qc.x(2)\n",
    "\n",
    "qc.draw('mpl')"
   ]
  },
  {
   "attachments": {},
   "cell_type": "markdown",
   "metadata": {},
   "source": [
    "Now that our circuit is made let us apply it to our basis states"
   ]
  },
  {
   "cell_type": "code",
   "execution_count": 262,
   "metadata": {},
   "outputs": [
    {
     "data": {
      "text/latex": [
       "$$ |000\\rangle$$"
      ],
      "text/plain": [
       "<IPython.core.display.Latex object>"
      ]
     },
     "execution_count": 262,
     "metadata": {},
     "output_type": "execute_result"
    },
    {
     "data": {
      "text/latex": [
       "$$- |001\\rangle$$"
      ],
      "text/plain": [
       "<IPython.core.display.Latex object>"
      ]
     },
     "execution_count": 262,
     "metadata": {},
     "output_type": "execute_result"
    },
    {
     "data": {
      "text/latex": [
       "$$ |010\\rangle$$"
      ],
      "text/plain": [
       "<IPython.core.display.Latex object>"
      ]
     },
     "execution_count": 262,
     "metadata": {},
     "output_type": "execute_result"
    },
    {
     "data": {
      "text/latex": [
       "$$ |011\\rangle$$"
      ],
      "text/plain": [
       "<IPython.core.display.Latex object>"
      ]
     },
     "execution_count": 262,
     "metadata": {},
     "output_type": "execute_result"
    },
    {
     "data": {
      "text/latex": [
       "$$ |100\\rangle$$"
      ],
      "text/plain": [
       "<IPython.core.display.Latex object>"
      ]
     },
     "execution_count": 262,
     "metadata": {},
     "output_type": "execute_result"
    },
    {
     "data": {
      "text/latex": [
       "$$ |101\\rangle$$"
      ],
      "text/plain": [
       "<IPython.core.display.Latex object>"
      ]
     },
     "execution_count": 262,
     "metadata": {},
     "output_type": "execute_result"
    },
    {
     "data": {
      "text/latex": [
       "$$ |110\\rangle$$"
      ],
      "text/plain": [
       "<IPython.core.display.Latex object>"
      ]
     },
     "execution_count": 262,
     "metadata": {},
     "output_type": "execute_result"
    },
    {
     "data": {
      "text/latex": [
       "$$ |111\\rangle$$"
      ],
      "text/plain": [
       "<IPython.core.display.Latex object>"
      ]
     },
     "execution_count": 262,
     "metadata": {},
     "output_type": "execute_result"
    }
   ],
   "source": [
    "basis = [\"000\", \"001\", \"010\", \"011\", \"100\", \"101\", \"110\", \"111\"]\n",
    "\n",
    "for index in basis:\n",
    "\n",
    "    state = Statevector.from_label(index)\n",
    "\n",
    "    state.evolve(qc).draw(output='latex')"
   ]
  },
  {
   "attachments": {},
   "cell_type": "markdown",
   "metadata": {},
   "source": [
    "We can also see it in matrix form using a simulation"
   ]
  },
  {
   "cell_type": "code",
   "execution_count": 263,
   "metadata": {},
   "outputs": [
    {
     "data": {
      "text/latex": [
       "$$\n",
       "\\text{U = }\n",
       "\\begin{bmatrix}\n",
       "1 & 0 & 0 & 0 & 0 & 0 & 0 & 0  \\\\\n",
       " 0 & -1 & 0 & 0 & 0 & 0 & 0 & 0  \\\\\n",
       " 0 & 0 & 1 & 0 & 0 & 0 & 0 & 0  \\\\\n",
       " 0 & 0 & 0 & 1 & 0 & 0 & 0 & 0  \\\\\n",
       " 0 & 0 & 0 & 0 & 1 & 0 & 0 & 0  \\\\\n",
       " 0 & 0 & 0 & 0 & 0 & 1 & 0 & 0  \\\\\n",
       " 0 & 0 & 0 & 0 & 0 & 0 & 1 & 0  \\\\\n",
       " 0 & 0 & 0 & 0 & 0 & 0 & 0 & 1  \\\\\n",
       " \\end{bmatrix}\n",
       "$$"
      ],
      "text/plain": [
       "<IPython.core.display.Latex object>"
      ]
     },
     "execution_count": 263,
     "metadata": {},
     "output_type": "execute_result"
    }
   ],
   "source": [
    "backend = Aer.get_backend('unitary_simulator')\n",
    "job = backend.run(transpile(qc, backend))\n",
    "result = job.result().get_unitary(qc, decimals=3)\n",
    "\n",
    "array_to_latex(result, prefix=\"\\\\text{U = }\")"
   ]
  },
  {
   "attachments": {},
   "cell_type": "markdown",
   "metadata": {},
   "source": [
    "We move on to a more complex task. In PSET8 there is a gate that allows us to measure the overlap between a state a and a state b. Let us actually calculate it.\n",
    "\n",
    "To actually do this we generate random states for the second and third qubits.\n",
    "\n",
    "Then we pass those qubits through the circuit and measure\n",
    "\n",
    "Then we analyze the histogram\n",
    "\n",
    "Then we are able to actually compute the overlap!"
   ]
  },
  {
   "cell_type": "code",
   "execution_count": 288,
   "metadata": {},
   "outputs": [
    {
     "data": {
      "image/png": "[encoded data removed]",
      "text/plain": [
       "<Figure size 789.163x367.889 with 1 Axes>"
      ]
     },
     "execution_count": 288,
     "metadata": {},
     "output_type": "execute_result"
    }
   ],
   "source": [
    "from qiskit.quantum_info import random_statevector\n",
    "q, c, qc = quantum_initialization(3, 1)\n",
    "\n",
    "state_a = random_statevector(2)\n",
    "\n",
    "state_b = random_statevector(2)\n",
    "\n",
    "qc.initialize([1, 0], 0)\n",
    "qc.initialize(state_a, 1)\n",
    "qc.initialize(state_b, 2)\n",
    "\n",
    "qc.h(0)\n",
    "qc.cswap(0, 1, 2)\n",
    "qc.h(0)\n",
    "qc.measure(0, 0)\n",
    "\n",
    "qc.draw('mpl')"
   ]
  },
  {
   "cell_type": "code",
   "execution_count": 289,
   "metadata": {},
   "outputs": [
    {
     "data": {
      "image/png": "[encoded data removed]",
      "text/plain": [
       "<Figure size 700x500 with 1 Axes>"
      ]
     },
     "execution_count": 289,
     "metadata": {},
     "output_type": "execute_result"
    }
   ],
   "source": [
    "simulator = Aer.get_backend('aer_simulator')\n",
    "circ = transpile(qc, simulator)\n",
    "\n",
    "result = simulator.run(qc).result()\n",
    "counts = result.get_counts(qc)\n",
    "\n",
    "plot_histogram(counts, title='Test')"
   ]
  },
  {
   "cell_type": "code",
   "execution_count": 297,
   "metadata": {},
   "outputs": [],
   "source": [
    "def overlap(runs):\n",
    "    i = 0\n",
    "    while i < runs:\n",
    "        q, c, qc = quantum_initialization(3, 1)\n",
    "\n",
    "        state_a = random_statevector(2)\n",
    "\n",
    "        state_b = random_statevector(2)\n",
    "\n",
    "        actual_prob = 0.5 * ( 1 - (state_a.inner(state_b)) ** 2)\n",
    "\n",
    "        qc.initialize([1, 0], 0)\n",
    "        qc.initialize(state_a, 1)\n",
    "        qc.initialize(state_b, 2)\n",
    "\n",
    "        qc.h(0)\n",
    "        qc.cswap(0, 1, 2)\n",
    "        qc.h(0)\n",
    "        qc.measure(0, 0)\n",
    "\n",
    "        circ = transpile(qc, simulator)\n",
    "\n",
    "        result = simulator.run(qc).result()\n",
    "        counts = result.get_counts(qc)\n",
    "\n",
    "        measured_prob =  counts.get('0') / (counts.get('0') + counts.get('1'))\n",
    "\n",
    "        print(\"Actual prob: \" + str(actual_prob) + \", Measured prob: \" + str(measured_prob))\n",
    "\n",
    "        i = i + 1"
   ]
  },
  {
   "cell_type": "code",
   "execution_count": 298,
   "metadata": {},
   "outputs": [
    {
     "name": "stdout",
     "output_type": "stream",
     "text": [
      "0.763671875\n",
      "Actual overlap: (-0.569222673957386-0.3799140842818001j), Measured overlap: nan\n",
      "0.55078125\n",
      "Actual overlap: (-0.31564091118218685-0.16551249596174628j), Measured overlap: nan\n",
      "0.4970703125\n",
      "Actual overlap: (-0.14880172628507293+0.09744761567118287j), Measured overlap: 0.07654655446197431\n",
      "0.9736328125\n",
      "Actual overlap: (-0.4920132730440293+0.8410272595874937j), Measured overlap: nan\n",
      "0.66015625\n",
      "Actual overlap: (-0.5258440878939503+0.057315419864965134j), Measured overlap: nan\n",
      "0.6181640625\n",
      "Actual overlap: (0.24578124623840691-0.41241855161181684j), Measured overlap: nan\n",
      "0.6240234375\n",
      "Actual overlap: (-0.12965211731594906-0.48780316362328957j), Measured overlap: nan\n",
      "0.5517578125\n",
      "Actual overlap: (-0.018263791034639154-0.3001138316934271j), Measured overlap: nan\n",
      "0.5439453125\n",
      "Actual overlap: (0.16462646338040807+0.17015757703151838j), Measured overlap: nan\n",
      "0.849609375\n",
      "Actual overlap: (-0.486582505130156+0.6513006699355669j), Measured overlap: nan\n",
      "0.5224609375\n",
      "Actual overlap: (-0.2053326145151363-0.14163922334188728j), Measured overlap: nan\n",
      "0.6611328125\n",
      "Actual overlap: (-0.47544992708526806+0.2738558614314706j), Measured overlap: nan\n",
      "0.5947265625\n",
      "Actual overlap: (0.3340792423179761-0.3029233019354182j), Measured overlap: nan\n",
      "0.517578125\n",
      "Actual overlap: (-0.09635629868233783-0.17629423660350318j), Measured overlap: nan\n"
     ]
    },
    {
     "name": "stderr",
     "output_type": "stream",
     "text": [
      "/tmp/ipykernel_283/3917423859.py:30: RuntimeWarning: invalid value encountered in sqrt\n",
      "  measure_overlap = np.sqrt(1 - 2 * prob)\n"
     ]
    },
    {
     "name": "stdout",
     "output_type": "stream",
     "text": [
      "0.8076171875\n",
      "Actual overlap: (-0.4452042512759755+0.6438349192698669j), Measured overlap: nan\n",
      "0.4541015625\n",
      "Actual overlap: (-0.009114444274400623+0.04176434878318716j), Measured overlap: 0.3029799910885206\n",
      "0.6865234375\n",
      "Actual overlap: (0.5155358866246365-0.39996829605268125j), Measured overlap: nan\n",
      "0.986328125\n",
      "Actual overlap: (-0.912079809311663-0.3698973367720745j), Measured overlap: nan\n",
      "0.5517578125\n",
      "Actual overlap: (0.14240716912154866-0.32485071390138004j), Measured overlap: nan\n",
      "0.75390625\n",
      "Actual overlap: (0.3374117591625655+0.6222291791037515j), Measured overlap: nan\n",
      "0.5322265625\n",
      "Actual overlap: (-0.25997992137409065-0.044925029739970895j), Measured overlap: nan\n",
      "0.82421875\n",
      "Actual overlap: (0.7765918529269938-0.18229561292137997j), Measured overlap: nan\n",
      "0.77734375\n",
      "Actual overlap: (-0.6542642362313366-0.3390060366469191j), Measured overlap: nan\n",
      "0.91015625\n",
      "Actual overlap: (-0.21356989175610805+0.9022837305262206j), Measured overlap: nan\n",
      "0.7041015625\n",
      "Actual overlap: (-0.4587040643499771-0.4513221053946343j), Measured overlap: nan\n",
      "0.9287109375\n",
      "Actual overlap: (0.8443055993856957+0.3743031558441443j), Measured overlap: nan\n",
      "0.859375\n",
      "Actual overlap: (0.30123017195707275+0.8034882125381455j), Measured overlap: nan\n",
      "0.7587890625\n",
      "Actual overlap: (-0.7122081962114023+0.19398075509971285j), Measured overlap: nan\n",
      "0.6103515625\n",
      "Actual overlap: (-0.17487686791216442+0.41925533949021987j), Measured overlap: nan\n",
      "0.9482421875\n",
      "Actual overlap: (0.6551357789126476+0.6868407898954428j), Measured overlap: nan\n",
      "0.8759765625\n",
      "Actual overlap: (0.2005809029873326+0.8459405700895058j), Measured overlap: nan\n",
      "0.7998046875\n",
      "Actual overlap: (0.6467033434078809+0.40033702561963336j), Measured overlap: nan\n",
      "0.6318359375\n",
      "Actual overlap: (-0.5481782062149374+0.09668314628997074j), Measured overlap: nan\n",
      "0.78515625\n",
      "Actual overlap: (-0.6879876157184708-0.30757458551692635j), Measured overlap: nan\n",
      "0.802734375\n",
      "Actual overlap: (-0.7809819923022607+0.07859498127990969j), Measured overlap: nan\n",
      "0.7490234375\n",
      "Actual overlap: (0.608228340960485-0.3586749198624495j), Measured overlap: nan\n",
      "0.5810546875\n",
      "Actual overlap: (0.3750911332698892-0.065990146884689j), Measured overlap: nan\n",
      "0.5107421875\n",
      "Actual overlap: (-0.08801912396989084+0.18513519200632944j), Measured overlap: nan\n",
      "0.58203125\n",
      "Actual overlap: (-0.3305023269214149-0.09998298056579955j), Measured overlap: nan\n",
      "0.5771484375\n",
      "Actual overlap: (0.35800636902877614-0.07302041544937138j), Measured overlap: nan\n",
      "0.5029296875\n",
      "Actual overlap: (-0.05023491657361934+0.03145464668888981j), Measured overlap: nan\n",
      "0.935546875\n",
      "Actual overlap: (0.756147824468352-0.5736725893657525j), Measured overlap: nan\n",
      "0.8408203125\n",
      "Actual overlap: (-0.634967201365047-0.5279316077815863j), Measured overlap: nan\n",
      "0.982421875\n",
      "Actual overlap: (-0.8901197914241072-0.40721840486372j), Measured overlap: nan\n",
      "0.9638671875\n",
      "Actual overlap: (0.921333842736532-0.2540050359099914j), Measured overlap: nan\n",
      "0.953125\n",
      "Actual overlap: (-0.08422612513875227+0.9428927934459783j), Measured overlap: nan\n",
      "0.6845703125\n",
      "Actual overlap: (0.46207794614129327-0.34301014748440506j), Measured overlap: nan\n",
      "0.6962890625\n",
      "Actual overlap: (0.3650688239879617-0.5174228923560723j), Measured overlap: nan\n",
      "0.8349609375\n",
      "Actual overlap: (-0.6740942549303827-0.4519515314867356j), Measured overlap: nan\n",
      "0.8203125\n",
      "Actual overlap: (0.25007798487465266+0.7798552912037964j), Measured overlap: nan\n",
      "0.810546875\n",
      "Actual overlap: (0.6687619982570623-0.41539235650347056j), Measured overlap: nan\n",
      "0.537109375\n",
      "Actual overlap: (0.14666922158427786-0.2564109307638462j), Measured overlap: nan\n",
      "0.51171875\n",
      "Actual overlap: (-0.09970040977521996+0.17128472264694114j), Measured overlap: nan\n",
      "0.7109375\n",
      "Actual overlap: (-0.5992510796746642-0.18448066570522983j), Measured overlap: nan\n",
      "0.7890625\n",
      "Actual overlap: (0.6697776021450033+0.34169887647027974j), Measured overlap: nan\n",
      "0.7451171875\n",
      "Actual overlap: (-0.384599798303221+0.6040304189469965j), Measured overlap: nan\n",
      "0.66796875\n",
      "Actual overlap: (-0.06285490662214738+0.5679031969154078j), Measured overlap: nan\n",
      "0.513671875\n",
      "Actual overlap: (-0.08135229475077467-0.09274137991641247j), Measured overlap: nan\n",
      "0.8798828125\n",
      "Actual overlap: (0.6535811958683366-0.5625250903949168j), Measured overlap: nan\n",
      "0.7939453125\n",
      "Actual overlap: (-0.2239435963725321+0.7538768644208415j), Measured overlap: nan\n",
      "0.7978515625\n",
      "Actual overlap: (-0.5163530146817589-0.5599616617005874j), Measured overlap: nan\n",
      "0.6171875\n",
      "Actual overlap: (0.4725574433366597-0.08455681595728118j), Measured overlap: nan\n",
      "0.9140625\n",
      "Actual overlap: (-0.06456033479109732+0.903757037604008j), Measured overlap: nan\n",
      "0.6669921875\n",
      "Actual overlap: (-0.32057675612147285+0.46349870684027183j), Measured overlap: nan\n",
      "0.6728515625\n",
      "Actual overlap: (-0.5056920527151971+0.2848758703503126j), Measured overlap: nan\n",
      "0.5078125\n",
      "Actual overlap: (0.011886144364869497+0.19503582328079155j), Measured overlap: nan\n",
      "0.5478515625\n",
      "Actual overlap: (-0.26542900872540504+0.18845814299088506j), Measured overlap: nan\n",
      "0.63671875\n",
      "Actual overlap: (-0.5072355391431691-0.10505532306716028j), Measured overlap: nan\n",
      "0.7431640625\n",
      "Actual overlap: (0.6703821640779115-0.1443671138416558j), Measured overlap: nan\n",
      "0.8916015625\n",
      "Actual overlap: (0.7048692656809261+0.5395181773262759j), Measured overlap: nan\n",
      "0.740234375\n",
      "Actual overlap: (-0.23023906894941867-0.6226534529185341j), Measured overlap: nan\n",
      "0.615234375\n",
      "Actual overlap: (0.04885968066825169-0.5266888014165819j), Measured overlap: nan\n",
      "0.9599609375\n",
      "Actual overlap: (0.6273552599150478+0.7263219502570221j), Measured overlap: nan\n",
      "0.5107421875\n",
      "Actual overlap: (0.1222410433689789-0.06329510590663423j), Measured overlap: nan\n",
      "0.5751953125\n",
      "Actual overlap: (-0.02653677837757032-0.3669557674234213j), Measured overlap: nan\n",
      "0.8837890625\n",
      "Actual overlap: (0.8628900720131818-0.1865038244493038j), Measured overlap: nan\n",
      "0.8212890625\n",
      "Actual overlap: (-0.7449889574139696-0.30676693939438693j), Measured overlap: nan\n",
      "0.5771484375\n",
      "Actual overlap: (-0.14137497891278353-0.3249872289316932j), Measured overlap: nan\n",
      "0.7197265625\n",
      "Actual overlap: (-0.37841025322805216-0.5538563958935279j), Measured overlap: nan\n",
      "0.8896484375\n",
      "Actual overlap: (0.8134728238759678-0.3108258870502997j), Measured overlap: nan\n",
      "0.8212890625\n",
      "Actual overlap: (-0.8060711294804929-0.09697116820275231j), Measured overlap: nan\n",
      "0.966796875\n",
      "Actual overlap: (-0.9082869413237789+0.3342690312915487j), Measured overlap: nan\n",
      "0.5810546875\n",
      "Actual overlap: (-0.37846809236028556-0.06142243904858166j), Measured overlap: nan\n",
      "0.7890625\n",
      "Actual overlap: (0.19255205156809407+0.723545617882795j), Measured overlap: nan\n",
      "0.8271484375\n",
      "Actual overlap: (-0.7778862047427204-0.03651674379251191j), Measured overlap: nan\n",
      "0.83984375\n",
      "Actual overlap: (0.3009149775242917-0.7812975409489413j), Measured overlap: nan\n",
      "0.953125\n",
      "Actual overlap: (0.6713421900757456+0.6617658896528117j), Measured overlap: nan\n",
      "0.69140625\n",
      "Actual overlap: (-0.3133136806266322+0.5209770040107026j), Measured overlap: nan\n",
      "0.7294921875\n",
      "Actual overlap: (-0.07246982221564519+0.6607736939415827j), Measured overlap: nan\n",
      "0.5263671875\n",
      "Actual overlap: (-0.1261507987305212+0.07655512942297527j), Measured overlap: nan\n",
      "0.583984375\n",
      "Actual overlap: (0.24352003443423392+0.3638203115364569j), Measured overlap: nan\n",
      "0.8408203125\n",
      "Actual overlap: (-0.7937396037768271+0.31130503754777206j), Measured overlap: nan\n",
      "0.77734375\n",
      "Actual overlap: (-0.7461253050119829-0.0878841947380628j), Measured overlap: nan\n",
      "0.8984375\n",
      "Actual overlap: (0.4257121845171794+0.7816352505210694j), Measured overlap: nan\n",
      "0.9326171875\n",
      "Actual overlap: (-0.7931530822131652-0.44822070712238243j), Measured overlap: nan\n",
      "0.8017578125\n",
      "Actual overlap: (-0.07159452245618911-0.7488687634766942j), Measured overlap: nan\n",
      "0.966796875\n",
      "Actual overlap: (0.908444247519105+0.3359227729016482j), Measured overlap: nan\n",
      "0.9326171875\n",
      "Actual overlap: (0.35326298305211934+0.8634800026687895j), Measured overlap: nan\n",
      "0.7421875\n",
      "Actual overlap: (-0.45169345772899017+0.5503321277332767j), Measured overlap: nan\n",
      "0.615234375\n",
      "Actual overlap: (0.24864287429199494-0.4644676821870075j), Measured overlap: nan\n"
     ]
    }
   ],
   "source": [
    "overlap(100)"
   ]
  }
 ],
 "metadata": {
  "kernelspec": {
   "display_name": "Python 3",
   "language": "python",
   "name": "python3"
  },
  "language_info": {
   "codemirror_mode": {
    "name": "ipython",
    "version": 3
   },
   "file_extension": ".py",
   "mimetype": "text/x-python",
   "name": "python",
   "nbconvert_exporter": "python",
   "pygments_lexer": "ipython3",
   "version": "3.9.2"
  },
  "orig_nbformat": 4,
  "vscode": {
   "interpreter": {
    "hash": "e7370f93d1d0cde622a1f8e1c04877d8463912d04d973331ad4851f04de6915a"
   }
  }
 },
 "nbformat": 4,
 "nbformat_minor": 2
}
