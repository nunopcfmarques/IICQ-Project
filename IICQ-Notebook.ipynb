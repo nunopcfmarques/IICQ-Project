{
 "cells": [
  {
   "cell_type": "code",
   "execution_count": 93,
   "metadata": {},
   "outputs": [
    {
     "data": {
      "text/html": [
       "<pre style=\"word-wrap: normal;white-space: pre;background: #fff0;line-height: 1.1;font-family: &quot;Courier New&quot;,Courier,monospace\">                      \n",
       "q1040_0: ──────■──────\n",
       "         ┌───┐ │ ┌───┐\n",
       "q1040_1: ┤ X ├─■─┤ X ├\n",
       "         ├───┤ │ ├───┤\n",
       "q1040_2: ┤ X ├─■─┤ X ├\n",
       "         └───┘   └───┘</pre>"
      ],
      "text/plain": [
       "                      \n",
       "q1040_0: ──────■──────\n",
       "         ┌───┐ │ ┌───┐\n",
       "q1040_1: ┤ X ├─■─┤ X ├\n",
       "         ├───┤ │ ├───┤\n",
       "q1040_2: ┤ X ├─■─┤ X ├\n",
       "         └───┘   └───┘"
      ]
     },
     "execution_count": 93,
     "metadata": {},
     "output_type": "execute_result"
    }
   ],
   "source": [
    "import numpy as np\n",
    "from qiskit import QuantumCircuit, transpile, assemble, BasicAer, Aer, QuantumRegister\n",
    "from qiskit.quantum_info import Statevector\n",
    "from qiskit.providers.aer import QasmSimulator\n",
    "from qiskit.visualization import plot_histogram, array_to_latex\n",
    "\n",
    "# Use Aer's qasm_simulator\n",
    "simulator = QasmSimulator()\n",
    "\n",
    "# Create a Quantum Circuit acting on the q register\n",
    "\n",
    "q = QuantumRegister(3)\n",
    "\n",
    "circuit = QuantumCircuit(q)\n",
    "\n",
    "circuit.x(1)\n",
    "\n",
    "circuit.x(2)\n",
    "\n",
    "circuit.ccz(1,2,0)\n",
    "\n",
    "circuit.x(1)\n",
    "\n",
    "circuit.x(2)\n",
    "\n",
    "circuit.draw()\n"
   ]
  },
  {
   "cell_type": "code",
   "execution_count": 94,
   "metadata": {},
   "outputs": [
    {
     "data": {
      "text/latex": [
       "$$\n",
       "\\text{U = }\n",
       "\\begin{bmatrix}\n",
       "1 & 0 & 0 & 0 & 0 & 0 & 0 & 0  \\\\\n",
       " 0 & -1 & 0 & 0 & 0 & 0 & 0 & 0  \\\\\n",
       " 0 & 0 & 1 & 0 & 0 & 0 & 0 & 0  \\\\\n",
       " 0 & 0 & 0 & 1 & 0 & 0 & 0 & 0  \\\\\n",
       " 0 & 0 & 0 & 0 & 1 & 0 & 0 & 0  \\\\\n",
       " 0 & 0 & 0 & 0 & 0 & 1 & 0 & 0  \\\\\n",
       " 0 & 0 & 0 & 0 & 0 & 0 & 1 & 0  \\\\\n",
       " 0 & 0 & 0 & 0 & 0 & 0 & 0 & 1  \\\\\n",
       " \\end{bmatrix}\n",
       "$$"
      ],
      "text/plain": [
       "<IPython.core.display.Latex object>"
      ]
     },
     "execution_count": 94,
     "metadata": {},
     "output_type": "execute_result"
    }
   ],
   "source": [
    "backend = BasicAer.get_backend('unitary_simulator')\n",
    "job = backend.run(transpile(circuit, backend))\n",
    "result = job.result().get_unitary(circuit, decimals=3)\n",
    "array_to_latex(result, prefix=\"\\\\text{U = }\")\n"
   ]
  },
  {
   "cell_type": "code",
   "execution_count": 95,
   "metadata": {},
   "outputs": [
    {
     "data": {
      "text/html": [
       "<pre style=\"word-wrap: normal;white-space: pre;background: #fff0;line-height: 1.1;font-family: &quot;Courier New&quot;,Courier,monospace\">         ┌───┐┌───┐   ┌───┐┌───┐\n",
       "q1043_0: ┤ H ├┤ X ├─■─┤ X ├┤ H ├\n",
       "         ├───┤├───┤ │ ├───┤├───┤\n",
       "q1043_1: ┤ H ├┤ X ├─■─┤ X ├┤ H ├\n",
       "         ├───┤├───┤ │ ├───┤├───┤\n",
       "q1043_2: ┤ H ├┤ X ├─■─┤ X ├┤ H ├\n",
       "         └───┘└───┘   └───┘└───┘</pre>"
      ],
      "text/plain": [
       "         ┌───┐┌───┐   ┌───┐┌───┐\n",
       "q1043_0: ┤ H ├┤ X ├─■─┤ X ├┤ H ├\n",
       "         ├───┤├───┤ │ ├───┤├───┤\n",
       "q1043_1: ┤ H ├┤ X ├─■─┤ X ├┤ H ├\n",
       "         ├───┤├───┤ │ ├───┤├───┤\n",
       "q1043_2: ┤ H ├┤ X ├─■─┤ X ├┤ H ├\n",
       "         └───┘└───┘   └───┘└───┘"
      ]
     },
     "execution_count": 95,
     "metadata": {},
     "output_type": "execute_result"
    }
   ],
   "source": [
    "q = QuantumRegister(3)\n",
    "\n",
    "circuit = QuantumCircuit(q)\n",
    "\n",
    "circuit.h(1)\n",
    "\n",
    "circuit.h(2)\n",
    "\n",
    "circuit.h(0)\n",
    "\n",
    "circuit.x(1)\n",
    "\n",
    "circuit.x(2)\n",
    "\n",
    "circuit.x(0)\n",
    "\n",
    "circuit.ccz(1, 2, 0)\n",
    "\n",
    "circuit.x(1)\n",
    "\n",
    "circuit.x(2)\n",
    "\n",
    "circuit.x(0)\n",
    "\n",
    "circuit.h(1)\n",
    "\n",
    "circuit.h(2)\n",
    "\n",
    "circuit.h(0)\n",
    "\n",
    "circuit.draw()\n"
   ]
  },
  {
   "cell_type": "code",
   "execution_count": 96,
   "metadata": {},
   "outputs": [
    {
     "data": {
      "text/latex": [
       "$$\n",
       "\\text{U = }\n",
       "\\begin{bmatrix}\n",
       "\\tfrac{3}{4} & -\\tfrac{1}{4} & -\\tfrac{1}{4} & -\\tfrac{1}{4} & -\\tfrac{1}{4} & -\\tfrac{1}{4} & -\\tfrac{1}{4} & -\\tfrac{1}{4}  \\\\\n",
       " -\\tfrac{1}{4} & \\tfrac{3}{4} & -\\tfrac{1}{4} & -\\tfrac{1}{4} & -\\tfrac{1}{4} & -\\tfrac{1}{4} & -\\tfrac{1}{4} & -\\tfrac{1}{4}  \\\\\n",
       " -\\tfrac{1}{4} & -\\tfrac{1}{4} & \\tfrac{3}{4} & -\\tfrac{1}{4} & -\\tfrac{1}{4} & -\\tfrac{1}{4} & -\\tfrac{1}{4} & -\\tfrac{1}{4}  \\\\\n",
       " -\\tfrac{1}{4} & -\\tfrac{1}{4} & -\\tfrac{1}{4} & \\tfrac{3}{4} & -\\tfrac{1}{4} & -\\tfrac{1}{4} & -\\tfrac{1}{4} & -\\tfrac{1}{4}  \\\\\n",
       " -\\tfrac{1}{4} & -\\tfrac{1}{4} & -\\tfrac{1}{4} & -\\tfrac{1}{4} & \\tfrac{3}{4} & -\\tfrac{1}{4} & -\\tfrac{1}{4} & -\\tfrac{1}{4}  \\\\\n",
       " -\\tfrac{1}{4} & -\\tfrac{1}{4} & -\\tfrac{1}{4} & -\\tfrac{1}{4} & -\\tfrac{1}{4} & \\tfrac{3}{4} & -\\tfrac{1}{4} & -\\tfrac{1}{4}  \\\\\n",
       " -\\tfrac{1}{4} & -\\tfrac{1}{4} & -\\tfrac{1}{4} & -\\tfrac{1}{4} & -\\tfrac{1}{4} & -\\tfrac{1}{4} & \\tfrac{3}{4} & -\\tfrac{1}{4}  \\\\\n",
       " -\\tfrac{1}{4} & -\\tfrac{1}{4} & -\\tfrac{1}{4} & -\\tfrac{1}{4} & -\\tfrac{1}{4} & -\\tfrac{1}{4} & -\\tfrac{1}{4} & \\tfrac{3}{4}  \\\\\n",
       " \\end{bmatrix}\n",
       "$$"
      ],
      "text/plain": [
       "<IPython.core.display.Latex object>"
      ]
     },
     "execution_count": 96,
     "metadata": {},
     "output_type": "execute_result"
    }
   ],
   "source": [
    "backend = BasicAer.get_backend('unitary_simulator')\n",
    "job = backend.run(transpile(circuit, backend))\n",
    "result = job.result().get_unitary(circuit, decimals=3)\n",
    "array_to_latex(result, prefix=\"\\\\text{U = }\")\n"
   ]
  },
  {
   "cell_type": "code",
   "execution_count": 97,
   "metadata": {},
   "outputs": [
    {
     "data": {
      "text/latex": [
       "$$- \\frac{\\sqrt{2}}{4} |000\\rangle- \\frac{\\sqrt{2}}{4} |001\\rangle- \\frac{\\sqrt{2}}{4} |010\\rangle- \\frac{\\sqrt{2}}{4} |011\\rangle- \\frac{\\sqrt{2}}{4} |100\\rangle- \\frac{\\sqrt{2}}{4} |101\\rangle- \\frac{\\sqrt{2}}{4} |110\\rangle- \\frac{\\sqrt{2}}{4} |111\\rangle$$"
      ],
      "text/plain": [
       "<IPython.core.display.Latex object>"
      ]
     },
     "execution_count": 97,
     "metadata": {},
     "output_type": "execute_result"
    }
   ],
   "source": [
    "q = QuantumRegister(3)\n",
    "\n",
    "circuit = QuantumCircuit(q)\n",
    "\n",
    "circuit.initialize([1/np.sqrt(8), 1/np.sqrt(8), 1 /\n",
    "                   np.sqrt(8), 1/np.sqrt(8), 1/np.sqrt(8), 1/np.sqrt(8), 1/np.sqrt(8), 1/np.sqrt(8)], qubits=[q[0], q[1], q[2]])\n",
    "\n",
    "circuit.h(1)\n",
    "\n",
    "circuit.h(2)\n",
    "\n",
    "circuit.h(0)\n",
    "\n",
    "circuit.x(1)\n",
    "\n",
    "circuit.x(2)\n",
    "\n",
    "circuit.x(0)\n",
    "\n",
    "circuit.ccz(1, 2, 0)\n",
    "\n",
    "circuit.x(1)\n",
    "\n",
    "circuit.x(2)\n",
    "\n",
    "circuit.x(0)\n",
    "\n",
    "circuit.h(1)\n",
    "\n",
    "circuit.h(2)\n",
    "\n",
    "circuit.h(0)\n",
    "\n",
    "st0 = Statevector(circuit)\n",
    "st0.draw(output='latex')\n"
   ]
  },
  {
   "attachments": {},
   "cell_type": "markdown",
   "metadata": {},
   "source": [
    "# IICQ Project\n",
    "\n",
    "The goal of this project is to show how to build quantum circuits using qiskit.\n",
    "\n",
    "The first step is let people what Qiskit is and how to actually acess it (this is a python library yada yada yada) - Only done in ppt\n",
    "\n",
    "The second step is to actually show how you can manipulate the basic properties of the circuit:\n",
    "\n",
    "- How to initialize the register (all in littleEndian but clarify it can be changed)\n",
    "- How to initialize the state\n",
    "- How to acess the state vector  \n",
    "- How to make controlled gates (littleEndian)\n",
    "- How to measure\n",
    "- How to simulate the circuit \n",
    "- How to draw\n",
    "\n",
    "The third step is to show some known algorithms in Qiskit\n",
    "\n",
    "- Grover's or Deutsche-Jostza or both (this is good practice for the test)\n",
    "- Maybe even some cryptographic protocol! (No theory, just for show remember this is 15 mins)"
   ]
  },
  {
   "attachments": {},
   "cell_type": "markdown",
   "metadata": {},
   "source": [
    "## Initialization\n",
    "\n",
    "- Use QuantumRegister(n) and ClassicalRegister(k), this way you can actually acess the qubits and bits. Then use QuantumCircuit(n, k)\n",
    "- By default each qubit is set to the set $\\ket{0}$.\n",
    "- You can initialize the qubits by labelling with a string (e.g '001') or by using a list separated by commas. This values in this list are the scalars for the basis vectors. Be mindful of littleEndian!\n",
    "\n",
    "We give some ordering examples:\n",
    "\n",
    "- For a two-qubit system: $\\ket{00} \\ket{01} \\ket{10} \\ket{11}$\n",
    "\n",
    "- For a three-qubit system : $\\ket{000} \\ket{001} \\ket{010} \\ket{011} \\ket{100} \\ket{101} \\ket{110} \\ket{111}$"
   ]
  },
  {
   "cell_type": "code",
   "execution_count": 98,
   "metadata": {},
   "outputs": [],
   "source": [
    "from qiskit import QuantumCircuit, QuantumRegister, ClassicalRegister"
   ]
  },
  {
   "cell_type": "code",
   "execution_count": 99,
   "metadata": {},
   "outputs": [],
   "source": [
    "# Helps with initialization. Default 0 since we might not need a classical register.\n",
    "def quantum_initialization(n, k = 0):\n",
    "    q = QuantumRegister(n)\n",
    "    c = ClassicalRegister(k)\n",
    "\n",
    "    qc = QuantumCircuit(n, k)\n",
    "\n",
    "    return q, c, qc"
   ]
  },
  {
   "cell_type": "code",
   "execution_count": 100,
   "metadata": {},
   "outputs": [
    {
     "data": {
      "text/latex": [
       "$$ |000\\rangle$$"
      ],
      "text/plain": [
       "<IPython.core.display.Latex object>"
      ]
     },
     "execution_count": 100,
     "metadata": {},
     "output_type": "execute_result"
    }
   ],
   "source": [
    "# Initialization\n",
    "q, c, qc = quantum_initialization(3)\n",
    "\n",
    "qc.initialize([1, 0, 0, 0, 0, 0, 0, 0], qc.qubits)\n",
    "\n",
    "st0 = Statevector(qc)\n",
    "st0.draw(output='latex')"
   ]
  },
  {
   "cell_type": "code",
   "execution_count": 101,
   "metadata": {},
   "outputs": [
    {
     "data": {
      "text/latex": [
       "$$ |000\\rangle$$"
      ],
      "text/plain": [
       "<IPython.core.display.Latex object>"
      ]
     },
     "execution_count": 101,
     "metadata": {},
     "output_type": "execute_result"
    }
   ],
   "source": [
    "qc.initialize('000', qc.qubits)\n",
    "\n",
    "st0 = Statevector(qc)\n",
    "st0.draw(output='latex')"
   ]
  },
  {
   "attachments": {},
   "cell_type": "markdown",
   "metadata": {},
   "source": [
    "## Making Gates\n",
    "\n",
    "Now that we know how to initialize our state lets try to make a very simple gate. For example, let's look at the Flip Operator (from PSET9)\n",
    "\n",
    "The circuit is composed of three qubits and five gates: 4 X gates and 1 CCZ gate\n",
    "\n",
    "To make the gates we just need to type qc.\"gate\"(\"index of qubit\"). If this gate is controlled we first arguments are the control qubits and the last is the target qubit.\n",
    "\n",
    "The X gates are acting on the second and third qubit.\n",
    "\n",
    "The CCZ gate acts on the first qubit.\n",
    "\n",
    "We write the circuit from left to right"
   ]
  },
  {
   "cell_type": "code",
   "execution_count": 102,
   "metadata": {},
   "outputs": [
    {
     "data": {
      "image/png": "[encoded data removed]",
      "text/plain": [
       "<Figure size 371.107x284.278 with 1 Axes>"
      ]
     },
     "execution_count": 102,
     "metadata": {},
     "output_type": "execute_result"
    }
   ],
   "source": [
    "\n",
    "q, c, qc = quantum_initialization(3)\n",
    "\n",
    "qc.x(1) \n",
    "\n",
    "qc.x(2)\n",
    "\n",
    "qc.ccz(1, 2, 0)\n",
    "\n",
    "qc.x(1)\n",
    "\n",
    "qc.x(2)\n",
    "\n",
    "qc.draw('mpl')"
   ]
  },
  {
   "attachments": {},
   "cell_type": "markdown",
   "metadata": {},
   "source": [
    "Now that our circuit is made let us apply it to our basis states"
   ]
  },
  {
   "cell_type": "code",
   "execution_count": 103,
   "metadata": {},
   "outputs": [],
   "source": [
    "basis = [\"000\", \"001\", \"010\", \"011\", \"100\", \"101\", \"110\", \"111\"]\n",
    "\n",
    "for index in basis:\n",
    "\n",
    "    state = Statevector.from_label(index)\n",
    "\n",
    "    state.evolve(qc).draw(output='latex')"
   ]
  },
  {
   "attachments": {},
   "cell_type": "markdown",
   "metadata": {},
   "source": [
    "We can also see it in matrix form using a simulation\n",
    "\n",
    "The way you perform simulations is by calling a backend and then transpiling the circuit"
   ]
  },
  {
   "cell_type": "code",
   "execution_count": 104,
   "metadata": {},
   "outputs": [
    {
     "data": {
      "text/latex": [
       "$$\n",
       "\\text{U = }\n",
       "\\begin{bmatrix}\n",
       "1 & 0 & 0 & 0 & 0 & 0 & 0 & 0  \\\\\n",
       " 0 & -1 & 0 & 0 & 0 & 0 & 0 & 0  \\\\\n",
       " 0 & 0 & 1 & 0 & 0 & 0 & 0 & 0  \\\\\n",
       " 0 & 0 & 0 & 1 & 0 & 0 & 0 & 0  \\\\\n",
       " 0 & 0 & 0 & 0 & 1 & 0 & 0 & 0  \\\\\n",
       " 0 & 0 & 0 & 0 & 0 & 1 & 0 & 0  \\\\\n",
       " 0 & 0 & 0 & 0 & 0 & 0 & 1 & 0  \\\\\n",
       " 0 & 0 & 0 & 0 & 0 & 0 & 0 & 1  \\\\\n",
       " \\end{bmatrix}\n",
       "$$"
      ],
      "text/plain": [
       "<IPython.core.display.Latex object>"
      ]
     },
     "execution_count": 104,
     "metadata": {},
     "output_type": "execute_result"
    }
   ],
   "source": [
    "backend = Aer.get_backend('unitary_simulator')\n",
    "job = backend.run(transpile(qc, backend))\n",
    "result = job.result().get_unitary(qc, decimals=3)\n",
    "\n",
    "array_to_latex(result, prefix=\"\\\\text{U = }\")"
   ]
  },
  {
   "attachments": {},
   "cell_type": "markdown",
   "metadata": {},
   "source": [
    "# Measuring\n",
    "\n",
    "We move on to a more complex task. In PSET8 there is a gate that allows us to measure the overlap between a state a and a state b. Let us actually calculate it.\n",
    "\n",
    "To actually do this we generate random states for the second and third qubits.\n",
    "\n",
    "Then we pass those qubits through the circuit and measure\n",
    "\n",
    "Then we analyze the histogram\n",
    "\n",
    "Then we are able to actually compute the overlap!"
   ]
  },
  {
   "cell_type": "code",
   "execution_count": 105,
   "metadata": {},
   "outputs": [
    {
     "data": {
      "image/png": "[encoded data removed]",
      "text/plain": [
       "<Figure size 705.552x367.889 with 1 Axes>"
      ]
     },
     "execution_count": 105,
     "metadata": {},
     "output_type": "execute_result"
    }
   ],
   "source": [
    "from qiskit.quantum_info import random_statevector\n",
    "q, c, qc = quantum_initialization(3, 1)\n",
    "\n",
    "state_a = random_statevector(2)\n",
    "\n",
    "state_b = random_statevector(2)\n",
    "\n",
    "qc.initialize([1, 0], 0)\n",
    "qc.initialize(state_a, 1)\n",
    "qc.initialize(state_b, 2)\n",
    "\n",
    "qc.h(0)\n",
    "qc.cswap(0, 1, 2)\n",
    "qc.h(0)\n",
    "qc.measure(0, 0)\n",
    "\n",
    "qc.draw('mpl')"
   ]
  },
  {
   "cell_type": "code",
   "execution_count": 106,
   "metadata": {},
   "outputs": [
    {
     "data": {
      "image/png": "[encoded data removed]",
      "text/plain": [
       "<Figure size 700x500 with 1 Axes>"
      ]
     },
     "execution_count": 106,
     "metadata": {},
     "output_type": "execute_result"
    }
   ],
   "source": [
    "simulator = Aer.get_backend('aer_simulator')\n",
    "circ = transpile(qc, simulator)\n",
    "\n",
    "result = simulator.run(qc).result()\n",
    "counts = result.get_counts(qc)\n",
    "\n",
    "plot_histogram(counts, title='Test')"
   ]
  },
  {
   "cell_type": "code",
   "execution_count": 107,
   "metadata": {},
   "outputs": [],
   "source": [
    "def overlap(runs):\n",
    "    i = 0\n",
    "    while i < runs:\n",
    "        q, c, qc = quantum_initialization(3, 1)\n",
    "\n",
    "        state_a = random_statevector(2)\n",
    "\n",
    "        state_b = random_statevector(2)\n",
    "\n",
    "        actual_prob = 0.5 * ( 1 + np.abs((state_a.inner(state_b))) ** 2)\n",
    "\n",
    "        qc.initialize([1, 0], 0)\n",
    "        qc.initialize(state_a, 1)\n",
    "        qc.initialize(state_b, 2)\n",
    "\n",
    "        qc.h(0)\n",
    "        qc.cswap(0, 1, 2)\n",
    "        qc.h(0)\n",
    "        qc.measure(0, 0)\n",
    "\n",
    "        circ = transpile(qc, simulator)\n",
    "\n",
    "        result = simulator.run(qc).result()\n",
    "        counts = result.get_counts(qc)\n",
    "\n",
    "        measured_prob =  counts.get('0') / (counts.get('0') + counts.get('1'))\n",
    "\n",
    "        print(\"Actual prob: \" + str(actual_prob) + \", Measured prob: \" + str(measured_prob) + \", Difference: \" + str(np.abs(actual_prob-measured_prob)))\n",
    "\n",
    "        i = i + 1"
   ]
  },
  {
   "cell_type": "code",
   "execution_count": 108,
   "metadata": {},
   "outputs": [
    {
     "name": "stdout",
     "output_type": "stream",
     "text": [
      "Actual prob: 0.5121703901017282, Measured prob: 0.517578125, Difference: 0.005407734898271843\n",
      "Actual prob: 0.6920096421529061, Measured prob: 0.6787109375, Difference: 0.013298704652906057\n",
      "Actual prob: 0.6890935548777136, Measured prob: 0.69140625, Difference: 0.002312695122286379\n",
      "Actual prob: 0.7053473189369083, Measured prob: 0.7119140625, Difference: 0.006566743563091726\n",
      "Actual prob: 0.7087418615128237, Measured prob: 0.7119140625, Difference: 0.003172200987176299\n",
      "Actual prob: 0.6779439616312143, Measured prob: 0.6806640625, Difference: 0.002720100868785713\n",
      "Actual prob: 0.5679022191214063, Measured prob: 0.5625, Difference: 0.00540221912140626\n",
      "Actual prob: 0.9300165661113813, Measured prob: 0.9384765625, Difference: 0.008459996388618718\n",
      "Actual prob: 0.6401627078876796, Measured prob: 0.6650390625, Difference: 0.024876354612320406\n",
      "Actual prob: 0.532214520490449, Measured prob: 0.548828125, Difference: 0.01661360450955096\n"
     ]
    }
   ],
   "source": [
    "overlap(10)"
   ]
  },
  {
   "attachments": {},
   "cell_type": "markdown",
   "metadata": {},
   "source": [
    "## Advanced Algorithms\n",
    "\n",
    "Let's try and make the Deutsch algorithm given in class.\n",
    "\n",
    "We want to know if given $f: {0,1} \\to {0,1}$ we can determine if it is constant by just calling it once.\n",
    "\n",
    "We begin with the qubit $\\ket{0}\\ket{1}$\n",
    "\n",
    "We start by making the constant oracle"
   ]
  },
  {
   "cell_type": "code",
   "execution_count": 114,
   "metadata": {},
   "outputs": [
    {
     "data": {
      "image/png": "[encoded data removed]",
      "text/plain": [
       "<Figure size 287.294x200.667 with 1 Axes>"
      ]
     },
     "execution_count": 114,
     "metadata": {},
     "output_type": "execute_result"
    }
   ],
   "source": [
    "n = 1\n",
    "\n",
    "const_orac = QuantumCircuit(n + 1)\n",
    "\n",
    "const_orac.barrier()\n",
    "output = np.random.randint(2)\n",
    "if output == 1:\n",
    "    const_orac.x(n)\n",
    "const_orac.barrier()\n",
    "\n",
    "\n",
    "const_orac.draw('mpl')"
   ]
  },
  {
   "attachments": {},
   "cell_type": "markdown",
   "metadata": {},
   "source": [
    "To make a balanced oracle we have to decide which inputs give 0 and which inputs give 1 with the guarantee that it is balanced. \n",
    "\n",
    "We could just make A balanced oracle representing A function f. But there are many balanced functions so it makes sense to have many oracles (generalization)\n",
    "\n",
    "For n = 1 we only have two options, either $f(0) = 0$ and $f(1) = 1$ or $f(0) = 1$ and $f(1) = 0$\n",
    "\n",
    "We can use X gates together with CNOT for every control qubit on the register make such functions\n",
    "\n",
    "Let's make both\n",
    "\n"
   ]
  },
  {
   "cell_type": "code",
   "execution_count": 126,
   "metadata": {},
   "outputs": [
    {
     "data": {
      "image/png": "[encoded data removed]",
      "text/plain": [
       "<Figure size 370.906x200.667 with 1 Axes>"
      ]
     },
     "execution_count": 126,
     "metadata": {},
     "output_type": "execute_result"
    }
   ],
   "source": [
    "balanced_orac1 = QuantumCircuit(n + 1)\n",
    "balanced_orac1.barrier()\n",
    "balanced_orac1.cnot(0, 1)\n",
    "balanced_orac1.barrier()\n",
    "balanced_orac1.draw('mpl')"
   ]
  },
  {
   "cell_type": "code",
   "execution_count": 127,
   "metadata": {},
   "outputs": [
    {
     "data": {
      "image/png": "[encoded data removed]",
      "text/plain": [
       "<Figure size 538.128x200.667 with 1 Axes>"
      ]
     },
     "execution_count": 127,
     "metadata": {},
     "output_type": "execute_result"
    }
   ],
   "source": [
    "balanced_orac2 = QuantumCircuit(n + 1)\n",
    "balanced_orac2.x(0)\n",
    "balanced_orac2.barrier()\n",
    "balanced_orac2.cnot(0, 1)\n",
    "balanced_orac2.barrier()\n",
    "balanced_orac2.x(0)\n",
    "balanced_orac2.draw('mpl')"
   ]
  },
  {
   "attachments": {},
   "cell_type": "markdown",
   "metadata": {},
   "source": [
    "Now that we have our three oracles let's put the algorithm together.\n",
    "\n",
    "The first step is to initialize the first qubit to the $\\ket{+}$ state and the second qubit to the $\\ket{-}$ state. Then we apply our oracle"
   ]
  },
  {
   "cell_type": "code",
   "execution_count": 128,
   "metadata": {},
   "outputs": [
    {
     "data": {
      "image/png": "[encoded data removed]",
      "text/plain": [
       "<Figure size 705.35x284.278 with 1 Axes>"
      ]
     },
     "execution_count": 128,
     "metadata": {},
     "output_type": "execute_result"
    }
   ],
   "source": [
    "dj_qc = QuantumCircuit(n + 1, n)\n",
    "\n",
    "dj_qc.h(0)\n",
    "\n",
    "dj_qc.x(1)\n",
    "dj_qc.h(1)\n",
    "\n",
    "dj_qc = dj_qc.compose(const_orac)\n",
    "\n",
    "dj_qc.h(0)\n",
    "dj_qc.barrier()\n",
    "\n",
    "dj_qc.measure(0, 0)\n",
    "dj_qc.draw('mpl')\n",
    "\n"
   ]
  },
  {
   "cell_type": "code",
   "execution_count": 123,
   "metadata": {},
   "outputs": [
    {
     "data": {
      "image/png": "[encoded data removed]",
      "text/plain": [
       "<Figure size 700x500 with 1 Axes>"
      ]
     },
     "execution_count": 123,
     "metadata": {},
     "output_type": "execute_result"
    }
   ],
   "source": [
    "circ = transpile(dj_qc, simulator)\n",
    "\n",
    "result = simulator.run(dj_qc).result()\n",
    "counts = result.get_counts(dj_qc)\n",
    "\n",
    "plot_histogram(counts)"
   ]
  },
  {
   "attachments": {},
   "cell_type": "markdown",
   "metadata": {},
   "source": [
    "Let's do the same for our balanced oracles"
   ]
  },
  {
   "cell_type": "code",
   "execution_count": 129,
   "metadata": {},
   "outputs": [
    {
     "data": {
      "image/png": "[encoded data removed]",
      "text/plain": [
       "<Figure size 788.961x284.278 with 1 Axes>"
      ]
     },
     "execution_count": 129,
     "metadata": {},
     "output_type": "execute_result"
    }
   ],
   "source": [
    "dj_qc = QuantumCircuit(n + 1, n)\n",
    "\n",
    "dj_qc.h(0)\n",
    "\n",
    "dj_qc.x(1)\n",
    "dj_qc.h(1)\n",
    "\n",
    "dj_qc = dj_qc.compose(balanced_orac1)\n",
    "\n",
    "dj_qc.h(0)\n",
    "dj_qc.barrier()\n",
    "\n",
    "dj_qc.measure(0, 0)\n",
    "dj_qc.draw('mpl')"
   ]
  },
  {
   "cell_type": "code",
   "execution_count": 130,
   "metadata": {},
   "outputs": [
    {
     "data": {
      "image/png": "[encoded data removed]",
      "text/plain": [
       "<Figure size 700x500 with 1 Axes>"
      ]
     },
     "execution_count": 130,
     "metadata": {},
     "output_type": "execute_result"
    }
   ],
   "source": [
    "circ = transpile(dj_qc, simulator)\n",
    "\n",
    "result = simulator.run(dj_qc).result()\n",
    "counts = result.get_counts(dj_qc)\n",
    "\n",
    "plot_histogram(counts)"
   ]
  },
  {
   "cell_type": "code",
   "execution_count": 131,
   "metadata": {},
   "outputs": [
    {
     "data": {
      "image/png": "[encoded data removed]",
      "text/plain": [
       "<Figure size 872.572x284.278 with 1 Axes>"
      ]
     },
     "execution_count": 131,
     "metadata": {},
     "output_type": "execute_result"
    }
   ],
   "source": [
    "dj_qc = QuantumCircuit(n + 1, n)\n",
    "\n",
    "dj_qc.h(0)\n",
    "\n",
    "dj_qc.x(1)\n",
    "dj_qc.h(1)\n",
    "\n",
    "dj_qc = dj_qc.compose(balanced_orac2)\n",
    "\n",
    "dj_qc.h(0)\n",
    "dj_qc.barrier()\n",
    "\n",
    "dj_qc.measure(0, 0)\n",
    "dj_qc.draw('mpl')"
   ]
  },
  {
   "cell_type": "code",
   "execution_count": 132,
   "metadata": {},
   "outputs": [
    {
     "data": {
      "image/png": "[encoded data removed]",
      "text/plain": [
       "<Figure size 700x500 with 1 Axes>"
      ]
     },
     "execution_count": 132,
     "metadata": {},
     "output_type": "execute_result"
    }
   ],
   "source": [
    "circ = transpile(dj_qc, simulator)\n",
    "\n",
    "result = simulator.run(dj_qc).result()\n",
    "counts = result.get_counts(dj_qc)\n",
    "\n",
    "plot_histogram(counts)"
   ]
  },
  {
   "attachments": {},
   "cell_type": "markdown",
   "metadata": {},
   "source": [
    "Now let's generalize this algorithm"
   ]
  },
  {
   "cell_type": "code",
   "execution_count": 190,
   "metadata": {},
   "outputs": [],
   "source": [
    "import random as rand\n",
    "\n",
    "def my_oracle(type, n):\n",
    "\n",
    "    oracle = QuantumCircuit(n + 1)\n",
    "\n",
    "    if type == \"c\":\n",
    "        output = np.random.randint(2)\n",
    "        if output == 1:\n",
    "            oracle.x(n)\n",
    "    \n",
    "    if type == \"b\":\n",
    "        b_list = []\n",
    "        for i in range(n):\n",
    "            b_list.append(rand.randint(0,1))\n",
    "            if b_list[i] == 1:\n",
    "                oracle.x(i)\n",
    "\n",
    "        oracle.barrier()\n",
    "        \n",
    "        for i in range(n):\n",
    "            oracle.cx(i, n)\n",
    "\n",
    "        oracle.barrier()\n",
    "\n",
    "        for i in range(n):\n",
    "            if b_list[i] == 1:\n",
    "                oracle.x(i)\n",
    "\n",
    "    return oracle\n",
    "\n",
    "    \n",
    "\n",
    "def my_dj(oracle, n):\n",
    "    dj = QuantumCircuit(n + 1, n)\n",
    "\n",
    "    dj.x(n)\n",
    "    dj.h(n)\n",
    "\n",
    "    for i in range(n):\n",
    "        dj.h(i)\n",
    "    \n",
    "    dj = dj.compose(oracle, range(n + 1))\n",
    "\n",
    "    for i in range(n):\n",
    "        dj.h(i)\n",
    "    \n",
    "    dj.barrier()\n",
    "    \n",
    "    for i in range(n):\n",
    "        dj.measure(i,i)\n",
    "    \n",
    "    return dj"
   ]
  },
  {
   "cell_type": "code",
   "execution_count": 191,
   "metadata": {},
   "outputs": [
    {
     "data": {
      "image/png": "[encoded data removed]",
      "text/plain": [
       "<Figure size 1040x451.5 with 1 Axes>"
      ]
     },
     "execution_count": 191,
     "metadata": {},
     "output_type": "execute_result"
    }
   ],
   "source": [
    "n = 3\n",
    "\n",
    "oracle = my_oracle(\"b\", n)\n",
    "dj = my_dj(oracle, n)\n",
    "\n",
    "dj.draw(\"mpl\")"
   ]
  },
  {
   "cell_type": "code",
   "execution_count": 184,
   "metadata": {},
   "outputs": [
    {
     "data": {
      "image/png": "[encoded data removed]",
      "text/plain": [
       "<Figure size 700x500 with 1 Axes>"
      ]
     },
     "execution_count": 184,
     "metadata": {},
     "output_type": "execute_result"
    }
   ],
   "source": [
    "circ = transpile(dj, simulator)\n",
    "\n",
    "result = simulator.run(dj).result()\n",
    "counts = result.get_counts(dj)\n",
    "\n",
    "plot_histogram(counts)"
   ]
  }
 ],
 "metadata": {
  "kernelspec": {
   "display_name": "Python 3",
   "language": "python",
   "name": "python3"
  },
  "language_info": {
   "codemirror_mode": {
    "name": "ipython",
    "version": 3
   },
   "file_extension": ".py",
   "mimetype": "text/x-python",
   "name": "python",
   "nbconvert_exporter": "python",
   "pygments_lexer": "ipython3",
   "version": "3.9.2"
  },
  "orig_nbformat": 4,
  "vscode": {
   "interpreter": {
    "hash": "e7370f93d1d0cde622a1f8e1c04877d8463912d04d973331ad4851f04de6915a"
   }
  }
 },
 "nbformat": 4,
 "nbformat_minor": 2
}
