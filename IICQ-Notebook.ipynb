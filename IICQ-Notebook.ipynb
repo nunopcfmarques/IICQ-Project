{
 "cells": [
  {
   "cell_type": "code",
   "execution_count": 1,
   "metadata": {},
   "outputs": [
    {
     "data": {
      "text/html": [
       "<pre style=\"word-wrap: normal;white-space: pre;background: #fff0;line-height: 1.1;font-family: &quot;Courier New&quot;,Courier,monospace\">                   \n",
       "q0_0: ──────■──────\n",
       "      ┌───┐ │ ┌───┐\n",
       "q0_1: ┤ X ├─■─┤ X ├\n",
       "      ├───┤ │ ├───┤\n",
       "q0_2: ┤ X ├─■─┤ X ├\n",
       "      └───┘   └───┘</pre>"
      ],
      "text/plain": [
       "                   \n",
       "q0_0: ──────■──────\n",
       "      ┌───┐ │ ┌───┐\n",
       "q0_1: ┤ X ├─■─┤ X ├\n",
       "      ├───┤ │ ├───┤\n",
       "q0_2: ┤ X ├─■─┤ X ├\n",
       "      └───┘   └───┘"
      ]
     },
     "execution_count": 1,
     "metadata": {},
     "output_type": "execute_result"
    }
   ],
   "source": [
    "import numpy as np\n",
    "from qiskit import QuantumCircuit, transpile, assemble, BasicAer, Aer, QuantumRegister\n",
    "from qiskit.quantum_info import Statevector\n",
    "from qiskit.providers.aer import QasmSimulator\n",
    "from qiskit.visualization import plot_histogram, array_to_latex\n",
    "\n",
    "# Use Aer's qasm_simulator\n",
    "simulator = QasmSimulator()\n",
    "\n",
    "# Create a Quantum Circuit acting on the q register\n",
    "\n",
    "q = QuantumRegister(3)\n",
    "\n",
    "circuit = QuantumCircuit(q)\n",
    "\n",
    "circuit.x(1)\n",
    "\n",
    "circuit.x(2)\n",
    "\n",
    "circuit.ccz(1,2,0)\n",
    "\n",
    "circuit.x(1)\n",
    "\n",
    "circuit.x(2)\n",
    "\n",
    "circuit.draw()\n"
   ]
  },
  {
   "cell_type": "code",
   "execution_count": 2,
   "metadata": {},
   "outputs": [
    {
     "data": {
      "text/latex": [
       "$$\n",
       "\\text{U = }\n",
       "\\begin{bmatrix}\n",
       "1 & 0 & 0 & 0 & 0 & 0 & 0 & 0  \\\\\n",
       " 0 & -1 & 0 & 0 & 0 & 0 & 0 & 0  \\\\\n",
       " 0 & 0 & 1 & 0 & 0 & 0 & 0 & 0  \\\\\n",
       " 0 & 0 & 0 & 1 & 0 & 0 & 0 & 0  \\\\\n",
       " 0 & 0 & 0 & 0 & 1 & 0 & 0 & 0  \\\\\n",
       " 0 & 0 & 0 & 0 & 0 & 1 & 0 & 0  \\\\\n",
       " 0 & 0 & 0 & 0 & 0 & 0 & 1 & 0  \\\\\n",
       " 0 & 0 & 0 & 0 & 0 & 0 & 0 & 1  \\\\\n",
       " \\end{bmatrix}\n",
       "$$"
      ],
      "text/plain": [
       "<IPython.core.display.Latex object>"
      ]
     },
     "execution_count": 2,
     "metadata": {},
     "output_type": "execute_result"
    }
   ],
   "source": [
    "backend = BasicAer.get_backend('unitary_simulator')\n",
    "job = backend.run(transpile(circuit, backend))\n",
    "result = job.result().get_unitary(circuit, decimals=3)\n",
    "array_to_latex(result, prefix=\"\\\\text{U = }\")\n"
   ]
  },
  {
   "cell_type": "code",
   "execution_count": 3,
   "metadata": {},
   "outputs": [
    {
     "data": {
      "text/html": [
       "<pre style=\"word-wrap: normal;white-space: pre;background: #fff0;line-height: 1.1;font-family: &quot;Courier New&quot;,Courier,monospace\">      ┌───┐┌───┐   ┌───┐┌───┐\n",
       "q3_0: ┤ H ├┤ X ├─■─┤ X ├┤ H ├\n",
       "      ├───┤├───┤ │ ├───┤├───┤\n",
       "q3_1: ┤ H ├┤ X ├─■─┤ X ├┤ H ├\n",
       "      ├───┤├───┤ │ ├───┤├───┤\n",
       "q3_2: ┤ H ├┤ X ├─■─┤ X ├┤ H ├\n",
       "      └───┘└───┘   └───┘└───┘</pre>"
      ],
      "text/plain": [
       "      ┌───┐┌───┐   ┌───┐┌───┐\n",
       "q3_0: ┤ H ├┤ X ├─■─┤ X ├┤ H ├\n",
       "      ├───┤├───┤ │ ├───┤├───┤\n",
       "q3_1: ┤ H ├┤ X ├─■─┤ X ├┤ H ├\n",
       "      ├───┤├───┤ │ ├───┤├───┤\n",
       "q3_2: ┤ H ├┤ X ├─■─┤ X ├┤ H ├\n",
       "      └───┘└───┘   └───┘└───┘"
      ]
     },
     "execution_count": 3,
     "metadata": {},
     "output_type": "execute_result"
    }
   ],
   "source": [
    "q = QuantumRegister(3)\n",
    "\n",
    "circuit = QuantumCircuit(q)\n",
    "\n",
    "circuit.h(1)\n",
    "\n",
    "circuit.h(2)\n",
    "\n",
    "circuit.h(0)\n",
    "\n",
    "circuit.x(1)\n",
    "\n",
    "circuit.x(2)\n",
    "\n",
    "circuit.x(0)\n",
    "\n",
    "circuit.ccz(1, 2, 0)\n",
    "\n",
    "circuit.x(1)\n",
    "\n",
    "circuit.x(2)\n",
    "\n",
    "circuit.x(0)\n",
    "\n",
    "circuit.h(1)\n",
    "\n",
    "circuit.h(2)\n",
    "\n",
    "circuit.h(0)\n",
    "\n",
    "circuit.draw()\n"
   ]
  },
  {
   "cell_type": "code",
   "execution_count": 4,
   "metadata": {},
   "outputs": [
    {
     "data": {
      "text/latex": [
       "$$\n",
       "\\text{U = }\n",
       "\\begin{bmatrix}\n",
       "\\tfrac{3}{4} & -\\tfrac{1}{4} & -\\tfrac{1}{4} & -\\tfrac{1}{4} & -\\tfrac{1}{4} & -\\tfrac{1}{4} & -\\tfrac{1}{4} & -\\tfrac{1}{4}  \\\\\n",
       " -\\tfrac{1}{4} & \\tfrac{3}{4} & -\\tfrac{1}{4} & -\\tfrac{1}{4} & -\\tfrac{1}{4} & -\\tfrac{1}{4} & -\\tfrac{1}{4} & -\\tfrac{1}{4}  \\\\\n",
       " -\\tfrac{1}{4} & -\\tfrac{1}{4} & \\tfrac{3}{4} & -\\tfrac{1}{4} & -\\tfrac{1}{4} & -\\tfrac{1}{4} & -\\tfrac{1}{4} & -\\tfrac{1}{4}  \\\\\n",
       " -\\tfrac{1}{4} & -\\tfrac{1}{4} & -\\tfrac{1}{4} & \\tfrac{3}{4} & -\\tfrac{1}{4} & -\\tfrac{1}{4} & -\\tfrac{1}{4} & -\\tfrac{1}{4}  \\\\\n",
       " -\\tfrac{1}{4} & -\\tfrac{1}{4} & -\\tfrac{1}{4} & -\\tfrac{1}{4} & \\tfrac{3}{4} & -\\tfrac{1}{4} & -\\tfrac{1}{4} & -\\tfrac{1}{4}  \\\\\n",
       " -\\tfrac{1}{4} & -\\tfrac{1}{4} & -\\tfrac{1}{4} & -\\tfrac{1}{4} & -\\tfrac{1}{4} & \\tfrac{3}{4} & -\\tfrac{1}{4} & -\\tfrac{1}{4}  \\\\\n",
       " -\\tfrac{1}{4} & -\\tfrac{1}{4} & -\\tfrac{1}{4} & -\\tfrac{1}{4} & -\\tfrac{1}{4} & -\\tfrac{1}{4} & \\tfrac{3}{4} & -\\tfrac{1}{4}  \\\\\n",
       " -\\tfrac{1}{4} & -\\tfrac{1}{4} & -\\tfrac{1}{4} & -\\tfrac{1}{4} & -\\tfrac{1}{4} & -\\tfrac{1}{4} & -\\tfrac{1}{4} & \\tfrac{3}{4}  \\\\\n",
       " \\end{bmatrix}\n",
       "$$"
      ],
      "text/plain": [
       "<IPython.core.display.Latex object>"
      ]
     },
     "execution_count": 4,
     "metadata": {},
     "output_type": "execute_result"
    }
   ],
   "source": [
    "backend = BasicAer.get_backend('unitary_simulator')\n",
    "job = backend.run(transpile(circuit, backend))\n",
    "result = job.result().get_unitary(circuit, decimals=3)\n",
    "array_to_latex(result, prefix=\"\\\\text{U = }\")\n"
   ]
  },
  {
   "cell_type": "code",
   "execution_count": 5,
   "metadata": {},
   "outputs": [
    {
     "data": {
      "text/latex": [
       "$$- \\frac{\\sqrt{2}}{4} |000\\rangle- \\frac{\\sqrt{2}}{4} |001\\rangle- \\frac{\\sqrt{2}}{4} |010\\rangle- \\frac{\\sqrt{2}}{4} |011\\rangle- \\frac{\\sqrt{2}}{4} |100\\rangle- \\frac{\\sqrt{2}}{4} |101\\rangle- \\frac{\\sqrt{2}}{4} |110\\rangle- \\frac{\\sqrt{2}}{4} |111\\rangle$$"
      ],
      "text/plain": [
       "<IPython.core.display.Latex object>"
      ]
     },
     "execution_count": 5,
     "metadata": {},
     "output_type": "execute_result"
    }
   ],
   "source": [
    "q = QuantumRegister(3)\n",
    "\n",
    "circuit = QuantumCircuit(q)\n",
    "\n",
    "circuit.initialize([1/np.sqrt(8), 1/np.sqrt(8), 1 /\n",
    "                   np.sqrt(8), 1/np.sqrt(8), 1/np.sqrt(8), 1/np.sqrt(8), 1/np.sqrt(8), 1/np.sqrt(8)], qubits=[q[0], q[1], q[2]])\n",
    "\n",
    "circuit.h(1)\n",
    "\n",
    "circuit.h(2)\n",
    "\n",
    "circuit.h(0)\n",
    "\n",
    "circuit.x(1)\n",
    "\n",
    "circuit.x(2)\n",
    "\n",
    "circuit.x(0)\n",
    "\n",
    "circuit.ccz(1, 2, 0)\n",
    "\n",
    "circuit.x(1)\n",
    "\n",
    "circuit.x(2)\n",
    "\n",
    "circuit.x(0)\n",
    "\n",
    "circuit.h(1)\n",
    "\n",
    "circuit.h(2)\n",
    "\n",
    "circuit.h(0)\n",
    "\n",
    "st0 = Statevector(circuit)\n",
    "st0.draw(output='latex')\n"
   ]
  },
  {
   "attachments": {},
   "cell_type": "markdown",
   "metadata": {},
   "source": [
    "# IICQ Project\n",
    "\n",
    "The goal of this project is to show how to build quantum circuits using qiskit.\n",
    "\n",
    "The first step is let people what Qiskit is and how to actually acess it (this is a python library yada yada yada) - Only done in ppt\n",
    "\n",
    "The second step is to actually show how you can manipulate the basic properties of the circuit:\n",
    "\n",
    "- How to initialize the register (all in littleEndian but clarify it can be changed) \n",
    "- How to initialize the state\n",
    "- How to make controlled gates (littleEndian)\n",
    "- How to acess the state vector \n",
    "- How to measure\n",
    "- How to draw\n",
    "- How to simulate the circuit \n",
    "\n",
    "The third step is to show some known algorithms in Qiskit\n",
    "\n",
    "- Grover's or Deutsche-Jostza or both (this is good practice for the test)\n",
    "- Maybe even some cryptographic protocol! (No theory, just for show remember this is 15 mins)"
   ]
  },
  {
   "attachments": {},
   "cell_type": "markdown",
   "metadata": {},
   "source": [
    "## Initialization\n",
    "\n",
    "- Use QuantumRegister(n) and ClassicalRegister(k), this way you can acess actually acess the qubits. Then use QuantumCircuit(n, k)"
   ]
  },
  {
   "cell_type": "code",
   "execution_count": 8,
   "metadata": {},
   "outputs": [],
   "source": [
    "from qiskit import QuantumCircuit, QuantumRegister, ClassicalRegister"
   ]
  },
  {
   "cell_type": "code",
   "execution_count": 9,
   "metadata": {},
   "outputs": [],
   "source": [
    "def quantum_initialization(n, k = 0):\n",
    "    q = QuantumRegister(n)\n",
    "    c = ClassicalRegister(k)\n",
    "\n",
    "    qc = QuantumCircuit(n, k)\n",
    "\n",
    "    return q, c, qc"
   ]
  },
  {
   "cell_type": "code",
   "execution_count": 10,
   "metadata": {},
   "outputs": [],
   "source": [
    "q, c, qc = quantum_initialization(3,3)"
   ]
  }
 ],
 "metadata": {
  "kernelspec": {
   "display_name": "Python 3",
   "language": "python",
   "name": "python3"
  },
  "language_info": {
   "codemirror_mode": {
    "name": "ipython",
    "version": 3
   },
   "file_extension": ".py",
   "mimetype": "text/x-python",
   "name": "python",
   "nbconvert_exporter": "python",
   "pygments_lexer": "ipython3",
   "version": "3.9.2"
  },
  "orig_nbformat": 4,
  "vscode": {
   "interpreter": {
    "hash": "e7370f93d1d0cde622a1f8e1c04877d8463912d04d973331ad4851f04de6915a"
   }
  }
 },
 "nbformat": 4,
 "nbformat_minor": 2
}
